{
 "cells": [
  {
   "cell_type": "markdown",
   "id": "233f50f0",
   "metadata": {},
   "source": [
    "# CHURN AND PRICE PREDICTION \n",
    "\n",
    "## Problem Statement\n",
    "The BCG project team thinks that building a churn model to understand whether price sensitivity is the largest driver of churn has potential. The client has sent over some data and the AD wants me to perform some exploratory data analysis.\n",
    "\n",
    "* Historical customer data: Customer data such as usage, sign up date, forecasted usage etc\n",
    "* Historical pricing data: variable and fixed pricing data etc\n",
    "* Churn indicator: whether each customer has churned or not\n",
    "\n",
    "\n",
    "\n",
    "## Data Description\n",
    "* id:                               Client identification number                              \n",
    "* channel_sales:                    Channel through which sales are made                     \n",
    "* cons_12m :                        Consistency in 12 months                           \n",
    "* cons_gas_12m:                     Consistency in gas supply in the last 12 months                       \n",
    "* cons_last_month:                  How consistent clients are last month                  \n",
    "* date_activ:                       Active dates                      \n",
    "* date_end:                         Last contact with client                        \n",
    "* date_modif_prod:                  Date of modified production                 \n",
    "* date_renewal :                    Date of possibel renewal of products                     \n",
    "* forecast_cons_12m :               Forecast of consistency in the last 12 months                \n",
    "* forecast_cons_year :              Forecast of one year consistency\n",
    "* forecast_discount_energy:         Forecast of discount energy        \n",
    "* forecast_meter_rent_12m           Forecast of metered rent in 12 months\n",
    "* forecast_price_energy_off_peak    Forecast of price energy off the peak\n",
    "* forecast_price_energy_peak        Forecast of price energy peak\n",
    "* forecast_price_pow_off_peak       Forecast of price power off the peak\n",
    "* has_gas                           Gas availability\n",
    "* imp_cons                          Imp consistency\n",
    "* margin_gross_pow_ele              Margin gross power of ele\n",
    "* margin_net_pow_ele                Margin net power of ele\n",
    "* nb_prod_act                       Notable production act\n",
    "* net_margin                        Net Margin\n",
    "* num_years_antig                   Number of years anticipated\n",
    "* origin_up                         Origin up\n",
    "* pow_max                           Power maximum\n",
    "* churn                             Possibility of leaving the product\n",
    "\n"
   ]
  },
  {
   "cell_type": "code",
   "execution_count": 1,
   "id": "d395855a",
   "metadata": {},
   "outputs": [],
   "source": [
    "# importing the necessary libraries for analysis and visualisation\n",
    "import pandas as pd\n",
    "import numpy as np\n",
    "import matplotlib.pyplot as plt\n",
    "import seaborn as sns\n",
    "\n",
    "#Enabling visualisation on Jupyter notebook\n",
    "%matplotlib inline"
   ]
  },
  {
   "cell_type": "code",
   "execution_count": 2,
   "id": "bdb696a7",
   "metadata": {},
   "outputs": [
    {
     "data": {
      "text/html": [
       "<div>\n",
       "<style scoped>\n",
       "    .dataframe tbody tr th:only-of-type {\n",
       "        vertical-align: middle;\n",
       "    }\n",
       "\n",
       "    .dataframe tbody tr th {\n",
       "        vertical-align: top;\n",
       "    }\n",
       "\n",
       "    .dataframe thead th {\n",
       "        text-align: right;\n",
       "    }\n",
       "</style>\n",
       "<table border=\"1\" class=\"dataframe\">\n",
       "  <thead>\n",
       "    <tr style=\"text-align: right;\">\n",
       "      <th></th>\n",
       "      <th>id</th>\n",
       "      <th>channel_sales</th>\n",
       "      <th>cons_12m</th>\n",
       "      <th>cons_gas_12m</th>\n",
       "      <th>cons_last_month</th>\n",
       "      <th>date_activ</th>\n",
       "      <th>date_end</th>\n",
       "      <th>date_modif_prod</th>\n",
       "      <th>date_renewal</th>\n",
       "      <th>forecast_cons_12m</th>\n",
       "      <th>...</th>\n",
       "      <th>has_gas</th>\n",
       "      <th>imp_cons</th>\n",
       "      <th>margin_gross_pow_ele</th>\n",
       "      <th>margin_net_pow_ele</th>\n",
       "      <th>nb_prod_act</th>\n",
       "      <th>net_margin</th>\n",
       "      <th>num_years_antig</th>\n",
       "      <th>origin_up</th>\n",
       "      <th>pow_max</th>\n",
       "      <th>churn</th>\n",
       "    </tr>\n",
       "  </thead>\n",
       "  <tbody>\n",
       "    <tr>\n",
       "      <th>0</th>\n",
       "      <td>24011ae4ebbe3035111d65fa7c15bc57</td>\n",
       "      <td>foosdfpfkusacimwkcsosbicdxkicaua</td>\n",
       "      <td>0</td>\n",
       "      <td>54946</td>\n",
       "      <td>0</td>\n",
       "      <td>2013-06-15</td>\n",
       "      <td>2016-06-15</td>\n",
       "      <td>2015-11-01</td>\n",
       "      <td>2015-06-23</td>\n",
       "      <td>0.00</td>\n",
       "      <td>...</td>\n",
       "      <td>t</td>\n",
       "      <td>0.00</td>\n",
       "      <td>25.44</td>\n",
       "      <td>25.44</td>\n",
       "      <td>2</td>\n",
       "      <td>678.99</td>\n",
       "      <td>3</td>\n",
       "      <td>lxidpiddsbxsbosboudacockeimpuepw</td>\n",
       "      <td>43.648</td>\n",
       "      <td>1</td>\n",
       "    </tr>\n",
       "    <tr>\n",
       "      <th>1</th>\n",
       "      <td>d29c2c54acc38ff3c0614d0a653813dd</td>\n",
       "      <td>MISSING</td>\n",
       "      <td>4660</td>\n",
       "      <td>0</td>\n",
       "      <td>0</td>\n",
       "      <td>2009-08-21</td>\n",
       "      <td>2016-08-30</td>\n",
       "      <td>2009-08-21</td>\n",
       "      <td>2015-08-31</td>\n",
       "      <td>189.95</td>\n",
       "      <td>...</td>\n",
       "      <td>f</td>\n",
       "      <td>0.00</td>\n",
       "      <td>16.38</td>\n",
       "      <td>16.38</td>\n",
       "      <td>1</td>\n",
       "      <td>18.89</td>\n",
       "      <td>6</td>\n",
       "      <td>kamkkxfxxuwbdslkwifmmcsiusiuosws</td>\n",
       "      <td>13.800</td>\n",
       "      <td>0</td>\n",
       "    </tr>\n",
       "    <tr>\n",
       "      <th>2</th>\n",
       "      <td>764c75f661154dac3a6c254cd082ea7d</td>\n",
       "      <td>foosdfpfkusacimwkcsosbicdxkicaua</td>\n",
       "      <td>544</td>\n",
       "      <td>0</td>\n",
       "      <td>0</td>\n",
       "      <td>2010-04-16</td>\n",
       "      <td>2016-04-16</td>\n",
       "      <td>2010-04-16</td>\n",
       "      <td>2015-04-17</td>\n",
       "      <td>47.96</td>\n",
       "      <td>...</td>\n",
       "      <td>f</td>\n",
       "      <td>0.00</td>\n",
       "      <td>28.60</td>\n",
       "      <td>28.60</td>\n",
       "      <td>1</td>\n",
       "      <td>6.60</td>\n",
       "      <td>6</td>\n",
       "      <td>kamkkxfxxuwbdslkwifmmcsiusiuosws</td>\n",
       "      <td>13.856</td>\n",
       "      <td>0</td>\n",
       "    </tr>\n",
       "    <tr>\n",
       "      <th>3</th>\n",
       "      <td>bba03439a292a1e166f80264c16191cb</td>\n",
       "      <td>lmkebamcaaclubfxadlmueccxoimlema</td>\n",
       "      <td>1584</td>\n",
       "      <td>0</td>\n",
       "      <td>0</td>\n",
       "      <td>2010-03-30</td>\n",
       "      <td>2016-03-30</td>\n",
       "      <td>2010-03-30</td>\n",
       "      <td>2015-03-31</td>\n",
       "      <td>240.04</td>\n",
       "      <td>...</td>\n",
       "      <td>f</td>\n",
       "      <td>0.00</td>\n",
       "      <td>30.22</td>\n",
       "      <td>30.22</td>\n",
       "      <td>1</td>\n",
       "      <td>25.46</td>\n",
       "      <td>6</td>\n",
       "      <td>kamkkxfxxuwbdslkwifmmcsiusiuosws</td>\n",
       "      <td>13.200</td>\n",
       "      <td>0</td>\n",
       "    </tr>\n",
       "    <tr>\n",
       "      <th>4</th>\n",
       "      <td>149d57cf92fc41cf94415803a877cb4b</td>\n",
       "      <td>MISSING</td>\n",
       "      <td>4425</td>\n",
       "      <td>0</td>\n",
       "      <td>526</td>\n",
       "      <td>2010-01-13</td>\n",
       "      <td>2016-03-07</td>\n",
       "      <td>2010-01-13</td>\n",
       "      <td>2015-03-09</td>\n",
       "      <td>445.75</td>\n",
       "      <td>...</td>\n",
       "      <td>f</td>\n",
       "      <td>52.32</td>\n",
       "      <td>44.91</td>\n",
       "      <td>44.91</td>\n",
       "      <td>1</td>\n",
       "      <td>47.98</td>\n",
       "      <td>6</td>\n",
       "      <td>kamkkxfxxuwbdslkwifmmcsiusiuosws</td>\n",
       "      <td>19.800</td>\n",
       "      <td>0</td>\n",
       "    </tr>\n",
       "  </tbody>\n",
       "</table>\n",
       "<p>5 rows × 26 columns</p>\n",
       "</div>"
      ],
      "text/plain": [
       "                                 id                     channel_sales  \\\n",
       "0  24011ae4ebbe3035111d65fa7c15bc57  foosdfpfkusacimwkcsosbicdxkicaua   \n",
       "1  d29c2c54acc38ff3c0614d0a653813dd                           MISSING   \n",
       "2  764c75f661154dac3a6c254cd082ea7d  foosdfpfkusacimwkcsosbicdxkicaua   \n",
       "3  bba03439a292a1e166f80264c16191cb  lmkebamcaaclubfxadlmueccxoimlema   \n",
       "4  149d57cf92fc41cf94415803a877cb4b                           MISSING   \n",
       "\n",
       "   cons_12m  cons_gas_12m  cons_last_month  date_activ    date_end  \\\n",
       "0         0         54946                0  2013-06-15  2016-06-15   \n",
       "1      4660             0                0  2009-08-21  2016-08-30   \n",
       "2       544             0                0  2010-04-16  2016-04-16   \n",
       "3      1584             0                0  2010-03-30  2016-03-30   \n",
       "4      4425             0              526  2010-01-13  2016-03-07   \n",
       "\n",
       "  date_modif_prod date_renewal  forecast_cons_12m  ...  has_gas  imp_cons  \\\n",
       "0      2015-11-01   2015-06-23               0.00  ...        t      0.00   \n",
       "1      2009-08-21   2015-08-31             189.95  ...        f      0.00   \n",
       "2      2010-04-16   2015-04-17              47.96  ...        f      0.00   \n",
       "3      2010-03-30   2015-03-31             240.04  ...        f      0.00   \n",
       "4      2010-01-13   2015-03-09             445.75  ...        f     52.32   \n",
       "\n",
       "   margin_gross_pow_ele  margin_net_pow_ele  nb_prod_act  net_margin  \\\n",
       "0                 25.44               25.44            2      678.99   \n",
       "1                 16.38               16.38            1       18.89   \n",
       "2                 28.60               28.60            1        6.60   \n",
       "3                 30.22               30.22            1       25.46   \n",
       "4                 44.91               44.91            1       47.98   \n",
       "\n",
       "  num_years_antig                         origin_up  pow_max  churn  \n",
       "0               3  lxidpiddsbxsbosboudacockeimpuepw   43.648      1  \n",
       "1               6  kamkkxfxxuwbdslkwifmmcsiusiuosws   13.800      0  \n",
       "2               6  kamkkxfxxuwbdslkwifmmcsiusiuosws   13.856      0  \n",
       "3               6  kamkkxfxxuwbdslkwifmmcsiusiuosws   13.200      0  \n",
       "4               6  kamkkxfxxuwbdslkwifmmcsiusiuosws   19.800      0  \n",
       "\n",
       "[5 rows x 26 columns]"
      ]
     },
     "execution_count": 2,
     "metadata": {},
     "output_type": "execute_result"
    }
   ],
   "source": [
    "# Reading the client data and accessing the first five rows\n",
    "data = pd.read_csv(\"client_data.csv\")\n",
    "data.head()"
   ]
  },
  {
   "cell_type": "code",
   "execution_count": 3,
   "id": "52a62430",
   "metadata": {},
   "outputs": [
    {
     "data": {
      "text/html": [
       "<div>\n",
       "<style scoped>\n",
       "    .dataframe tbody tr th:only-of-type {\n",
       "        vertical-align: middle;\n",
       "    }\n",
       "\n",
       "    .dataframe tbody tr th {\n",
       "        vertical-align: top;\n",
       "    }\n",
       "\n",
       "    .dataframe thead th {\n",
       "        text-align: right;\n",
       "    }\n",
       "</style>\n",
       "<table border=\"1\" class=\"dataframe\">\n",
       "  <thead>\n",
       "    <tr style=\"text-align: right;\">\n",
       "      <th></th>\n",
       "      <th>id</th>\n",
       "      <th>price_date</th>\n",
       "      <th>price_off_peak_var</th>\n",
       "      <th>price_peak_var</th>\n",
       "      <th>price_mid_peak_var</th>\n",
       "      <th>price_off_peak_fix</th>\n",
       "      <th>price_peak_fix</th>\n",
       "      <th>price_mid_peak_fix</th>\n",
       "    </tr>\n",
       "  </thead>\n",
       "  <tbody>\n",
       "    <tr>\n",
       "      <th>192992</th>\n",
       "      <td>16f51cdc2baa19af0b940ee1b3dd17d5</td>\n",
       "      <td>2015-03-01</td>\n",
       "      <td>0.129444</td>\n",
       "      <td>0.106863</td>\n",
       "      <td>0.075004</td>\n",
       "      <td>40.565969</td>\n",
       "      <td>24.339581</td>\n",
       "      <td>16.226389</td>\n",
       "    </tr>\n",
       "    <tr>\n",
       "      <th>192993</th>\n",
       "      <td>16f51cdc2baa19af0b940ee1b3dd17d5</td>\n",
       "      <td>2015-04-01</td>\n",
       "      <td>0.129444</td>\n",
       "      <td>0.106863</td>\n",
       "      <td>0.075004</td>\n",
       "      <td>40.565969</td>\n",
       "      <td>24.339581</td>\n",
       "      <td>16.226389</td>\n",
       "    </tr>\n",
       "    <tr>\n",
       "      <th>192994</th>\n",
       "      <td>16f51cdc2baa19af0b940ee1b3dd17d5</td>\n",
       "      <td>2015-05-01</td>\n",
       "      <td>0.129444</td>\n",
       "      <td>0.106863</td>\n",
       "      <td>0.075004</td>\n",
       "      <td>40.565973</td>\n",
       "      <td>24.339578</td>\n",
       "      <td>16.226383</td>\n",
       "    </tr>\n",
       "    <tr>\n",
       "      <th>192995</th>\n",
       "      <td>16f51cdc2baa19af0b940ee1b3dd17d5</td>\n",
       "      <td>2015-06-01</td>\n",
       "      <td>0.129444</td>\n",
       "      <td>0.106863</td>\n",
       "      <td>0.075004</td>\n",
       "      <td>40.565973</td>\n",
       "      <td>24.339578</td>\n",
       "      <td>16.226383</td>\n",
       "    </tr>\n",
       "    <tr>\n",
       "      <th>192996</th>\n",
       "      <td>16f51cdc2baa19af0b940ee1b3dd17d5</td>\n",
       "      <td>2015-07-01</td>\n",
       "      <td>0.128077</td>\n",
       "      <td>0.106401</td>\n",
       "      <td>0.076311</td>\n",
       "      <td>40.728885</td>\n",
       "      <td>24.437330</td>\n",
       "      <td>16.291555</td>\n",
       "    </tr>\n",
       "    <tr>\n",
       "      <th>192997</th>\n",
       "      <td>16f51cdc2baa19af0b940ee1b3dd17d5</td>\n",
       "      <td>2015-08-01</td>\n",
       "      <td>0.119916</td>\n",
       "      <td>0.102232</td>\n",
       "      <td>0.076257</td>\n",
       "      <td>40.728885</td>\n",
       "      <td>24.437330</td>\n",
       "      <td>16.291555</td>\n",
       "    </tr>\n",
       "    <tr>\n",
       "      <th>192998</th>\n",
       "      <td>16f51cdc2baa19af0b940ee1b3dd17d5</td>\n",
       "      <td>2015-09-01</td>\n",
       "      <td>0.119916</td>\n",
       "      <td>0.102232</td>\n",
       "      <td>0.076257</td>\n",
       "      <td>40.728885</td>\n",
       "      <td>24.437330</td>\n",
       "      <td>16.291555</td>\n",
       "    </tr>\n",
       "    <tr>\n",
       "      <th>192999</th>\n",
       "      <td>16f51cdc2baa19af0b940ee1b3dd17d5</td>\n",
       "      <td>2015-10-01</td>\n",
       "      <td>0.119916</td>\n",
       "      <td>0.102232</td>\n",
       "      <td>0.076257</td>\n",
       "      <td>40.728885</td>\n",
       "      <td>24.437330</td>\n",
       "      <td>16.291555</td>\n",
       "    </tr>\n",
       "    <tr>\n",
       "      <th>193000</th>\n",
       "      <td>16f51cdc2baa19af0b940ee1b3dd17d5</td>\n",
       "      <td>2015-11-01</td>\n",
       "      <td>0.119916</td>\n",
       "      <td>0.102232</td>\n",
       "      <td>0.076257</td>\n",
       "      <td>40.728885</td>\n",
       "      <td>24.437330</td>\n",
       "      <td>16.291555</td>\n",
       "    </tr>\n",
       "    <tr>\n",
       "      <th>193001</th>\n",
       "      <td>16f51cdc2baa19af0b940ee1b3dd17d5</td>\n",
       "      <td>2015-12-01</td>\n",
       "      <td>0.119916</td>\n",
       "      <td>0.102232</td>\n",
       "      <td>0.076257</td>\n",
       "      <td>40.728885</td>\n",
       "      <td>24.437330</td>\n",
       "      <td>16.291555</td>\n",
       "    </tr>\n",
       "  </tbody>\n",
       "</table>\n",
       "</div>"
      ],
      "text/plain": [
       "                                      id  price_date  price_off_peak_var  \\\n",
       "192992  16f51cdc2baa19af0b940ee1b3dd17d5  2015-03-01            0.129444   \n",
       "192993  16f51cdc2baa19af0b940ee1b3dd17d5  2015-04-01            0.129444   \n",
       "192994  16f51cdc2baa19af0b940ee1b3dd17d5  2015-05-01            0.129444   \n",
       "192995  16f51cdc2baa19af0b940ee1b3dd17d5  2015-06-01            0.129444   \n",
       "192996  16f51cdc2baa19af0b940ee1b3dd17d5  2015-07-01            0.128077   \n",
       "192997  16f51cdc2baa19af0b940ee1b3dd17d5  2015-08-01            0.119916   \n",
       "192998  16f51cdc2baa19af0b940ee1b3dd17d5  2015-09-01            0.119916   \n",
       "192999  16f51cdc2baa19af0b940ee1b3dd17d5  2015-10-01            0.119916   \n",
       "193000  16f51cdc2baa19af0b940ee1b3dd17d5  2015-11-01            0.119916   \n",
       "193001  16f51cdc2baa19af0b940ee1b3dd17d5  2015-12-01            0.119916   \n",
       "\n",
       "        price_peak_var  price_mid_peak_var  price_off_peak_fix  \\\n",
       "192992        0.106863            0.075004           40.565969   \n",
       "192993        0.106863            0.075004           40.565969   \n",
       "192994        0.106863            0.075004           40.565973   \n",
       "192995        0.106863            0.075004           40.565973   \n",
       "192996        0.106401            0.076311           40.728885   \n",
       "192997        0.102232            0.076257           40.728885   \n",
       "192998        0.102232            0.076257           40.728885   \n",
       "192999        0.102232            0.076257           40.728885   \n",
       "193000        0.102232            0.076257           40.728885   \n",
       "193001        0.102232            0.076257           40.728885   \n",
       "\n",
       "        price_peak_fix  price_mid_peak_fix  \n",
       "192992       24.339581           16.226389  \n",
       "192993       24.339581           16.226389  \n",
       "192994       24.339578           16.226383  \n",
       "192995       24.339578           16.226383  \n",
       "192996       24.437330           16.291555  \n",
       "192997       24.437330           16.291555  \n",
       "192998       24.437330           16.291555  \n",
       "192999       24.437330           16.291555  \n",
       "193000       24.437330           16.291555  \n",
       "193001       24.437330           16.291555  "
      ]
     },
     "execution_count": 3,
     "metadata": {},
     "output_type": "execute_result"
    }
   ],
   "source": [
    "# Reading the price data and accessing the last 10 rows\n",
    "price = pd.read_csv(\"price_data.csv\")\n",
    "price.tail(10)"
   ]
  },
  {
   "cell_type": "code",
   "execution_count": 4,
   "id": "bcfbfd96",
   "metadata": {},
   "outputs": [
    {
     "data": {
      "text/plain": [
       "((14606, 26), 379756, 2)"
      ]
     },
     "execution_count": 4,
     "metadata": {},
     "output_type": "execute_result"
    }
   ],
   "source": [
    "# determining the structure of the client data\n",
    "data.shape, data.size, data.ndim"
   ]
  },
  {
   "cell_type": "markdown",
   "id": "e8777c8d",
   "metadata": {},
   "source": [
    "## Observation\n",
    "* There are 14606 rows and 26 columns\n",
    "* A total of 379756 data on the data set\n",
    "* A two dimensional dataframe"
   ]
  },
  {
   "cell_type": "code",
   "execution_count": 5,
   "id": "84235283",
   "metadata": {},
   "outputs": [
    {
     "data": {
      "text/plain": [
       "((193002, 8), 1544016, 2)"
      ]
     },
     "execution_count": 5,
     "metadata": {},
     "output_type": "execute_result"
    }
   ],
   "source": [
    "# determining the structure of the price data\n",
    "price.shape, price.size, price.ndim"
   ]
  },
  {
   "cell_type": "markdown",
   "id": "d4b5b14d",
   "metadata": {},
   "source": [
    "## Observation\n",
    "* There are 193002 rows and 8 colums\n",
    "* The total data on the set sums up to 1544016\n",
    "* A two dimensional dataframe"
   ]
  },
  {
   "cell_type": "code",
   "execution_count": 6,
   "id": "ff0c9d93",
   "metadata": {},
   "outputs": [
    {
     "data": {
      "text/plain": [
       "(14606, 193002)"
      ]
     },
     "execution_count": 6,
     "metadata": {},
     "output_type": "execute_result"
    }
   ],
   "source": [
    "# confiming the size of both datas\n",
    "len(data), len(price)"
   ]
  },
  {
   "cell_type": "code",
   "execution_count": 7,
   "id": "53c48572",
   "metadata": {},
   "outputs": [
    {
     "data": {
      "text/plain": [
       "id                                 object\n",
       "channel_sales                      object\n",
       "cons_12m                            int64\n",
       "cons_gas_12m                        int64\n",
       "cons_last_month                     int64\n",
       "date_activ                         object\n",
       "date_end                           object\n",
       "date_modif_prod                    object\n",
       "date_renewal                       object\n",
       "forecast_cons_12m                 float64\n",
       "forecast_cons_year                  int64\n",
       "forecast_discount_energy          float64\n",
       "forecast_meter_rent_12m           float64\n",
       "forecast_price_energy_off_peak    float64\n",
       "forecast_price_energy_peak        float64\n",
       "forecast_price_pow_off_peak       float64\n",
       "has_gas                            object\n",
       "imp_cons                          float64\n",
       "margin_gross_pow_ele              float64\n",
       "margin_net_pow_ele                float64\n",
       "nb_prod_act                         int64\n",
       "net_margin                        float64\n",
       "num_years_antig                     int64\n",
       "origin_up                          object\n",
       "pow_max                           float64\n",
       "churn                               int64\n",
       "dtype: object"
      ]
     },
     "execution_count": 7,
     "metadata": {},
     "output_type": "execute_result"
    }
   ],
   "source": [
    "# understanding the data types of each client column\n",
    "data.dtypes"
   ]
  },
  {
   "cell_type": "code",
   "execution_count": 8,
   "id": "7da3cde1",
   "metadata": {},
   "outputs": [
    {
     "data": {
      "text/plain": [
       "id                     object\n",
       "price_date             object\n",
       "price_off_peak_var    float64\n",
       "price_peak_var        float64\n",
       "price_mid_peak_var    float64\n",
       "price_off_peak_fix    float64\n",
       "price_peak_fix        float64\n",
       "price_mid_peak_fix    float64\n",
       "dtype: object"
      ]
     },
     "execution_count": 8,
     "metadata": {},
     "output_type": "execute_result"
    }
   ],
   "source": [
    "# understanding the data types of each price column\n",
    "price.dtypes"
   ]
  },
  {
   "cell_type": "code",
   "execution_count": 9,
   "id": "aaef4d0d",
   "metadata": {},
   "outputs": [
    {
     "name": "stdout",
     "output_type": "stream",
     "text": [
      "<class 'pandas.core.frame.DataFrame'>\n",
      "RangeIndex: 14606 entries, 0 to 14605\n",
      "Data columns (total 26 columns):\n",
      " #   Column                          Non-Null Count  Dtype  \n",
      "---  ------                          --------------  -----  \n",
      " 0   id                              14606 non-null  object \n",
      " 1   channel_sales                   14606 non-null  object \n",
      " 2   cons_12m                        14606 non-null  int64  \n",
      " 3   cons_gas_12m                    14606 non-null  int64  \n",
      " 4   cons_last_month                 14606 non-null  int64  \n",
      " 5   date_activ                      14606 non-null  object \n",
      " 6   date_end                        14606 non-null  object \n",
      " 7   date_modif_prod                 14606 non-null  object \n",
      " 8   date_renewal                    14606 non-null  object \n",
      " 9   forecast_cons_12m               14606 non-null  float64\n",
      " 10  forecast_cons_year              14606 non-null  int64  \n",
      " 11  forecast_discount_energy        14606 non-null  float64\n",
      " 12  forecast_meter_rent_12m         14606 non-null  float64\n",
      " 13  forecast_price_energy_off_peak  14606 non-null  float64\n",
      " 14  forecast_price_energy_peak      14606 non-null  float64\n",
      " 15  forecast_price_pow_off_peak     14606 non-null  float64\n",
      " 16  has_gas                         14606 non-null  object \n",
      " 17  imp_cons                        14606 non-null  float64\n",
      " 18  margin_gross_pow_ele            14606 non-null  float64\n",
      " 19  margin_net_pow_ele              14606 non-null  float64\n",
      " 20  nb_prod_act                     14606 non-null  int64  \n",
      " 21  net_margin                      14606 non-null  float64\n",
      " 22  num_years_antig                 14606 non-null  int64  \n",
      " 23  origin_up                       14606 non-null  object \n",
      " 24  pow_max                         14606 non-null  float64\n",
      " 25  churn                           14606 non-null  int64  \n",
      "dtypes: float64(11), int64(7), object(8)\n",
      "memory usage: 2.9+ MB\n"
     ]
    }
   ],
   "source": [
    "# Getting deeper info about the client data\n",
    "data.info()"
   ]
  },
  {
   "cell_type": "code",
   "execution_count": 10,
   "id": "049c67c2",
   "metadata": {},
   "outputs": [
    {
     "name": "stdout",
     "output_type": "stream",
     "text": [
      "<class 'pandas.core.frame.DataFrame'>\n",
      "RangeIndex: 193002 entries, 0 to 193001\n",
      "Data columns (total 8 columns):\n",
      " #   Column              Non-Null Count   Dtype  \n",
      "---  ------              --------------   -----  \n",
      " 0   id                  193002 non-null  object \n",
      " 1   price_date          193002 non-null  object \n",
      " 2   price_off_peak_var  193002 non-null  float64\n",
      " 3   price_peak_var      193002 non-null  float64\n",
      " 4   price_mid_peak_var  193002 non-null  float64\n",
      " 5   price_off_peak_fix  193002 non-null  float64\n",
      " 6   price_peak_fix      193002 non-null  float64\n",
      " 7   price_mid_peak_fix  193002 non-null  float64\n",
      "dtypes: float64(6), object(2)\n",
      "memory usage: 11.8+ MB\n"
     ]
    }
   ],
   "source": [
    "#Getting deeper info about the price data\n",
    "price.info()"
   ]
  },
  {
   "cell_type": "code",
   "execution_count": 11,
   "id": "00489d4c",
   "metadata": {},
   "outputs": [
    {
     "data": {
      "text/plain": [
       "id                                0\n",
       "channel_sales                     0\n",
       "cons_12m                          0\n",
       "cons_gas_12m                      0\n",
       "cons_last_month                   0\n",
       "date_activ                        0\n",
       "date_end                          0\n",
       "date_modif_prod                   0\n",
       "date_renewal                      0\n",
       "forecast_cons_12m                 0\n",
       "forecast_cons_year                0\n",
       "forecast_discount_energy          0\n",
       "forecast_meter_rent_12m           0\n",
       "forecast_price_energy_off_peak    0\n",
       "forecast_price_energy_peak        0\n",
       "forecast_price_pow_off_peak       0\n",
       "has_gas                           0\n",
       "imp_cons                          0\n",
       "margin_gross_pow_ele              0\n",
       "margin_net_pow_ele                0\n",
       "nb_prod_act                       0\n",
       "net_margin                        0\n",
       "num_years_antig                   0\n",
       "origin_up                         0\n",
       "pow_max                           0\n",
       "churn                             0\n",
       "dtype: int64"
      ]
     },
     "execution_count": 11,
     "metadata": {},
     "output_type": "execute_result"
    }
   ],
   "source": [
    "# checking for missing data\n",
    "data.isna().sum()"
   ]
  },
  {
   "cell_type": "code",
   "execution_count": 12,
   "id": "245cd091",
   "metadata": {},
   "outputs": [
    {
     "data": {
      "text/plain": [
       "id                    0\n",
       "price_date            0\n",
       "price_off_peak_var    0\n",
       "price_peak_var        0\n",
       "price_mid_peak_var    0\n",
       "price_off_peak_fix    0\n",
       "price_peak_fix        0\n",
       "price_mid_peak_fix    0\n",
       "dtype: int64"
      ]
     },
     "execution_count": 12,
     "metadata": {},
     "output_type": "execute_result"
    }
   ],
   "source": [
    "# checking for missing data\n",
    "price.isna().sum()"
   ]
  },
  {
   "cell_type": "markdown",
   "id": "51c95acb",
   "metadata": {},
   "source": [
    "###### Both datas are well filled up with data. "
   ]
  },
  {
   "cell_type": "markdown",
   "id": "2039d7d2",
   "metadata": {},
   "source": [
    "### STATISTICAL OVERVIEW for Client data"
   ]
  },
  {
   "cell_type": "code",
   "execution_count": 13,
   "id": "ed3364e0",
   "metadata": {},
   "outputs": [
    {
     "data": {
      "text/html": [
       "<div>\n",
       "<style scoped>\n",
       "    .dataframe tbody tr th:only-of-type {\n",
       "        vertical-align: middle;\n",
       "    }\n",
       "\n",
       "    .dataframe tbody tr th {\n",
       "        vertical-align: top;\n",
       "    }\n",
       "\n",
       "    .dataframe thead th {\n",
       "        text-align: right;\n",
       "    }\n",
       "</style>\n",
       "<table border=\"1\" class=\"dataframe\">\n",
       "  <thead>\n",
       "    <tr style=\"text-align: right;\">\n",
       "      <th></th>\n",
       "      <th>count</th>\n",
       "      <th>mean</th>\n",
       "      <th>std</th>\n",
       "      <th>min</th>\n",
       "      <th>25%</th>\n",
       "      <th>50%</th>\n",
       "      <th>75%</th>\n",
       "      <th>max</th>\n",
       "    </tr>\n",
       "  </thead>\n",
       "  <tbody>\n",
       "    <tr>\n",
       "      <th>cons_12m</th>\n",
       "      <td>14606.0</td>\n",
       "      <td>159220.286252</td>\n",
       "      <td>573465.264198</td>\n",
       "      <td>0.0</td>\n",
       "      <td>5674.750000</td>\n",
       "      <td>14115.500000</td>\n",
       "      <td>40763.750000</td>\n",
       "      <td>6.207104e+06</td>\n",
       "    </tr>\n",
       "    <tr>\n",
       "      <th>cons_gas_12m</th>\n",
       "      <td>14606.0</td>\n",
       "      <td>28092.375325</td>\n",
       "      <td>162973.059057</td>\n",
       "      <td>0.0</td>\n",
       "      <td>0.000000</td>\n",
       "      <td>0.000000</td>\n",
       "      <td>0.000000</td>\n",
       "      <td>4.154590e+06</td>\n",
       "    </tr>\n",
       "    <tr>\n",
       "      <th>cons_last_month</th>\n",
       "      <td>14606.0</td>\n",
       "      <td>16090.269752</td>\n",
       "      <td>64364.196422</td>\n",
       "      <td>0.0</td>\n",
       "      <td>0.000000</td>\n",
       "      <td>792.500000</td>\n",
       "      <td>3383.000000</td>\n",
       "      <td>7.712030e+05</td>\n",
       "    </tr>\n",
       "    <tr>\n",
       "      <th>forecast_cons_12m</th>\n",
       "      <td>14606.0</td>\n",
       "      <td>1868.614880</td>\n",
       "      <td>2387.571531</td>\n",
       "      <td>0.0</td>\n",
       "      <td>494.995000</td>\n",
       "      <td>1112.875000</td>\n",
       "      <td>2401.790000</td>\n",
       "      <td>8.290283e+04</td>\n",
       "    </tr>\n",
       "    <tr>\n",
       "      <th>forecast_cons_year</th>\n",
       "      <td>14606.0</td>\n",
       "      <td>1399.762906</td>\n",
       "      <td>3247.786255</td>\n",
       "      <td>0.0</td>\n",
       "      <td>0.000000</td>\n",
       "      <td>314.000000</td>\n",
       "      <td>1745.750000</td>\n",
       "      <td>1.753750e+05</td>\n",
       "    </tr>\n",
       "    <tr>\n",
       "      <th>forecast_discount_energy</th>\n",
       "      <td>14606.0</td>\n",
       "      <td>0.966726</td>\n",
       "      <td>5.108289</td>\n",
       "      <td>0.0</td>\n",
       "      <td>0.000000</td>\n",
       "      <td>0.000000</td>\n",
       "      <td>0.000000</td>\n",
       "      <td>3.000000e+01</td>\n",
       "    </tr>\n",
       "    <tr>\n",
       "      <th>forecast_meter_rent_12m</th>\n",
       "      <td>14606.0</td>\n",
       "      <td>63.086871</td>\n",
       "      <td>66.165783</td>\n",
       "      <td>0.0</td>\n",
       "      <td>16.180000</td>\n",
       "      <td>18.795000</td>\n",
       "      <td>131.030000</td>\n",
       "      <td>5.993100e+02</td>\n",
       "    </tr>\n",
       "    <tr>\n",
       "      <th>forecast_price_energy_off_peak</th>\n",
       "      <td>14606.0</td>\n",
       "      <td>0.137283</td>\n",
       "      <td>0.024623</td>\n",
       "      <td>0.0</td>\n",
       "      <td>0.116340</td>\n",
       "      <td>0.143166</td>\n",
       "      <td>0.146348</td>\n",
       "      <td>2.739630e-01</td>\n",
       "    </tr>\n",
       "    <tr>\n",
       "      <th>forecast_price_energy_peak</th>\n",
       "      <td>14606.0</td>\n",
       "      <td>0.050491</td>\n",
       "      <td>0.049037</td>\n",
       "      <td>0.0</td>\n",
       "      <td>0.000000</td>\n",
       "      <td>0.084138</td>\n",
       "      <td>0.098837</td>\n",
       "      <td>1.959750e-01</td>\n",
       "    </tr>\n",
       "    <tr>\n",
       "      <th>forecast_price_pow_off_peak</th>\n",
       "      <td>14606.0</td>\n",
       "      <td>43.130056</td>\n",
       "      <td>4.485988</td>\n",
       "      <td>0.0</td>\n",
       "      <td>40.606701</td>\n",
       "      <td>44.311378</td>\n",
       "      <td>44.311378</td>\n",
       "      <td>5.926638e+01</td>\n",
       "    </tr>\n",
       "    <tr>\n",
       "      <th>imp_cons</th>\n",
       "      <td>14606.0</td>\n",
       "      <td>152.786896</td>\n",
       "      <td>341.369366</td>\n",
       "      <td>0.0</td>\n",
       "      <td>0.000000</td>\n",
       "      <td>37.395000</td>\n",
       "      <td>193.980000</td>\n",
       "      <td>1.504279e+04</td>\n",
       "    </tr>\n",
       "    <tr>\n",
       "      <th>margin_gross_pow_ele</th>\n",
       "      <td>14606.0</td>\n",
       "      <td>24.565121</td>\n",
       "      <td>20.231172</td>\n",
       "      <td>0.0</td>\n",
       "      <td>14.280000</td>\n",
       "      <td>21.640000</td>\n",
       "      <td>29.880000</td>\n",
       "      <td>3.746400e+02</td>\n",
       "    </tr>\n",
       "    <tr>\n",
       "      <th>margin_net_pow_ele</th>\n",
       "      <td>14606.0</td>\n",
       "      <td>24.562517</td>\n",
       "      <td>20.230280</td>\n",
       "      <td>0.0</td>\n",
       "      <td>14.280000</td>\n",
       "      <td>21.640000</td>\n",
       "      <td>29.880000</td>\n",
       "      <td>3.746400e+02</td>\n",
       "    </tr>\n",
       "    <tr>\n",
       "      <th>nb_prod_act</th>\n",
       "      <td>14606.0</td>\n",
       "      <td>1.292346</td>\n",
       "      <td>0.709774</td>\n",
       "      <td>1.0</td>\n",
       "      <td>1.000000</td>\n",
       "      <td>1.000000</td>\n",
       "      <td>1.000000</td>\n",
       "      <td>3.200000e+01</td>\n",
       "    </tr>\n",
       "    <tr>\n",
       "      <th>net_margin</th>\n",
       "      <td>14606.0</td>\n",
       "      <td>189.264522</td>\n",
       "      <td>311.798130</td>\n",
       "      <td>0.0</td>\n",
       "      <td>50.712500</td>\n",
       "      <td>112.530000</td>\n",
       "      <td>243.097500</td>\n",
       "      <td>2.457065e+04</td>\n",
       "    </tr>\n",
       "    <tr>\n",
       "      <th>num_years_antig</th>\n",
       "      <td>14606.0</td>\n",
       "      <td>4.997809</td>\n",
       "      <td>1.611749</td>\n",
       "      <td>1.0</td>\n",
       "      <td>4.000000</td>\n",
       "      <td>5.000000</td>\n",
       "      <td>6.000000</td>\n",
       "      <td>1.300000e+01</td>\n",
       "    </tr>\n",
       "    <tr>\n",
       "      <th>pow_max</th>\n",
       "      <td>14606.0</td>\n",
       "      <td>18.135136</td>\n",
       "      <td>13.534743</td>\n",
       "      <td>3.3</td>\n",
       "      <td>12.500000</td>\n",
       "      <td>13.856000</td>\n",
       "      <td>19.172500</td>\n",
       "      <td>3.200000e+02</td>\n",
       "    </tr>\n",
       "    <tr>\n",
       "      <th>churn</th>\n",
       "      <td>14606.0</td>\n",
       "      <td>0.097152</td>\n",
       "      <td>0.296175</td>\n",
       "      <td>0.0</td>\n",
       "      <td>0.000000</td>\n",
       "      <td>0.000000</td>\n",
       "      <td>0.000000</td>\n",
       "      <td>1.000000e+00</td>\n",
       "    </tr>\n",
       "  </tbody>\n",
       "</table>\n",
       "</div>"
      ],
      "text/plain": [
       "                                  count           mean            std  min  \\\n",
       "cons_12m                        14606.0  159220.286252  573465.264198  0.0   \n",
       "cons_gas_12m                    14606.0   28092.375325  162973.059057  0.0   \n",
       "cons_last_month                 14606.0   16090.269752   64364.196422  0.0   \n",
       "forecast_cons_12m               14606.0    1868.614880    2387.571531  0.0   \n",
       "forecast_cons_year              14606.0    1399.762906    3247.786255  0.0   \n",
       "forecast_discount_energy        14606.0       0.966726       5.108289  0.0   \n",
       "forecast_meter_rent_12m         14606.0      63.086871      66.165783  0.0   \n",
       "forecast_price_energy_off_peak  14606.0       0.137283       0.024623  0.0   \n",
       "forecast_price_energy_peak      14606.0       0.050491       0.049037  0.0   \n",
       "forecast_price_pow_off_peak     14606.0      43.130056       4.485988  0.0   \n",
       "imp_cons                        14606.0     152.786896     341.369366  0.0   \n",
       "margin_gross_pow_ele            14606.0      24.565121      20.231172  0.0   \n",
       "margin_net_pow_ele              14606.0      24.562517      20.230280  0.0   \n",
       "nb_prod_act                     14606.0       1.292346       0.709774  1.0   \n",
       "net_margin                      14606.0     189.264522     311.798130  0.0   \n",
       "num_years_antig                 14606.0       4.997809       1.611749  1.0   \n",
       "pow_max                         14606.0      18.135136      13.534743  3.3   \n",
       "churn                           14606.0       0.097152       0.296175  0.0   \n",
       "\n",
       "                                        25%           50%           75%  \\\n",
       "cons_12m                        5674.750000  14115.500000  40763.750000   \n",
       "cons_gas_12m                       0.000000      0.000000      0.000000   \n",
       "cons_last_month                    0.000000    792.500000   3383.000000   \n",
       "forecast_cons_12m                494.995000   1112.875000   2401.790000   \n",
       "forecast_cons_year                 0.000000    314.000000   1745.750000   \n",
       "forecast_discount_energy           0.000000      0.000000      0.000000   \n",
       "forecast_meter_rent_12m           16.180000     18.795000    131.030000   \n",
       "forecast_price_energy_off_peak     0.116340      0.143166      0.146348   \n",
       "forecast_price_energy_peak         0.000000      0.084138      0.098837   \n",
       "forecast_price_pow_off_peak       40.606701     44.311378     44.311378   \n",
       "imp_cons                           0.000000     37.395000    193.980000   \n",
       "margin_gross_pow_ele              14.280000     21.640000     29.880000   \n",
       "margin_net_pow_ele                14.280000     21.640000     29.880000   \n",
       "nb_prod_act                        1.000000      1.000000      1.000000   \n",
       "net_margin                        50.712500    112.530000    243.097500   \n",
       "num_years_antig                    4.000000      5.000000      6.000000   \n",
       "pow_max                           12.500000     13.856000     19.172500   \n",
       "churn                              0.000000      0.000000      0.000000   \n",
       "\n",
       "                                         max  \n",
       "cons_12m                        6.207104e+06  \n",
       "cons_gas_12m                    4.154590e+06  \n",
       "cons_last_month                 7.712030e+05  \n",
       "forecast_cons_12m               8.290283e+04  \n",
       "forecast_cons_year              1.753750e+05  \n",
       "forecast_discount_energy        3.000000e+01  \n",
       "forecast_meter_rent_12m         5.993100e+02  \n",
       "forecast_price_energy_off_peak  2.739630e-01  \n",
       "forecast_price_energy_peak      1.959750e-01  \n",
       "forecast_price_pow_off_peak     5.926638e+01  \n",
       "imp_cons                        1.504279e+04  \n",
       "margin_gross_pow_ele            3.746400e+02  \n",
       "margin_net_pow_ele              3.746400e+02  \n",
       "nb_prod_act                     3.200000e+01  \n",
       "net_margin                      2.457065e+04  \n",
       "num_years_antig                 1.300000e+01  \n",
       "pow_max                         3.200000e+02  \n",
       "churn                           1.000000e+00  "
      ]
     },
     "execution_count": 13,
     "metadata": {},
     "output_type": "execute_result"
    }
   ],
   "source": [
    "# Statistical overview of the client data\n",
    "data.describe().T"
   ]
  },
  {
   "cell_type": "markdown",
   "id": "627c92a2",
   "metadata": {},
   "source": [
    "## Observations:\n",
    "#### Understanding what each column represents affected the interpretation of each columns\n",
    "* cons_12m: \n",
    "* cons_gas_12m:\n",
    "* cons_last_month:\n",
    "* forecast_cons_12m:\t\n",
    "* forecast_cons_year:\n",
    "* forecast_discount_energy:\n",
    "* forecast_meter_rent_12m:\n",
    "* forecast_price_energy_off_peak:\t\n",
    "* forecast_price_energy_peak:\n",
    "* forecast_price_pow_off_peak:\n",
    "* forecast_price_pow_off_peak:\n",
    "* imp_cons:\n",
    "* margin_gross_pow_ele:\t\n",
    "* margin_net_pow_ele:\n",
    "* nb_prod_act:\n",
    "* net_margin:\t\n",
    "* num_years_antig:\n",
    "* pow_max:\n",
    "* churn:\n"
   ]
  },
  {
   "cell_type": "code",
   "execution_count": 14,
   "id": "5e7ac7ba",
   "metadata": {},
   "outputs": [
    {
     "data": {
      "text/html": [
       "<div>\n",
       "<style scoped>\n",
       "    .dataframe tbody tr th:only-of-type {\n",
       "        vertical-align: middle;\n",
       "    }\n",
       "\n",
       "    .dataframe tbody tr th {\n",
       "        vertical-align: top;\n",
       "    }\n",
       "\n",
       "    .dataframe thead th {\n",
       "        text-align: right;\n",
       "    }\n",
       "</style>\n",
       "<table border=\"1\" class=\"dataframe\">\n",
       "  <thead>\n",
       "    <tr style=\"text-align: right;\">\n",
       "      <th></th>\n",
       "      <th>count</th>\n",
       "      <th>unique</th>\n",
       "      <th>top</th>\n",
       "      <th>freq</th>\n",
       "    </tr>\n",
       "  </thead>\n",
       "  <tbody>\n",
       "    <tr>\n",
       "      <th>id</th>\n",
       "      <td>14606</td>\n",
       "      <td>14606</td>\n",
       "      <td>24011ae4ebbe3035111d65fa7c15bc57</td>\n",
       "      <td>1</td>\n",
       "    </tr>\n",
       "    <tr>\n",
       "      <th>channel_sales</th>\n",
       "      <td>14606</td>\n",
       "      <td>8</td>\n",
       "      <td>foosdfpfkusacimwkcsosbicdxkicaua</td>\n",
       "      <td>6754</td>\n",
       "    </tr>\n",
       "    <tr>\n",
       "      <th>date_activ</th>\n",
       "      <td>14606</td>\n",
       "      <td>1796</td>\n",
       "      <td>2009-08-01</td>\n",
       "      <td>95</td>\n",
       "    </tr>\n",
       "    <tr>\n",
       "      <th>date_end</th>\n",
       "      <td>14606</td>\n",
       "      <td>368</td>\n",
       "      <td>2016-02-01</td>\n",
       "      <td>145</td>\n",
       "    </tr>\n",
       "    <tr>\n",
       "      <th>date_modif_prod</th>\n",
       "      <td>14606</td>\n",
       "      <td>2129</td>\n",
       "      <td>2015-11-01</td>\n",
       "      <td>721</td>\n",
       "    </tr>\n",
       "    <tr>\n",
       "      <th>date_renewal</th>\n",
       "      <td>14606</td>\n",
       "      <td>386</td>\n",
       "      <td>2015-06-23</td>\n",
       "      <td>587</td>\n",
       "    </tr>\n",
       "    <tr>\n",
       "      <th>has_gas</th>\n",
       "      <td>14606</td>\n",
       "      <td>2</td>\n",
       "      <td>f</td>\n",
       "      <td>11955</td>\n",
       "    </tr>\n",
       "    <tr>\n",
       "      <th>origin_up</th>\n",
       "      <td>14606</td>\n",
       "      <td>6</td>\n",
       "      <td>lxidpiddsbxsbosboudacockeimpuepw</td>\n",
       "      <td>7097</td>\n",
       "    </tr>\n",
       "  </tbody>\n",
       "</table>\n",
       "</div>"
      ],
      "text/plain": [
       "                 count unique                               top   freq\n",
       "id               14606  14606  24011ae4ebbe3035111d65fa7c15bc57      1\n",
       "channel_sales    14606      8  foosdfpfkusacimwkcsosbicdxkicaua   6754\n",
       "date_activ       14606   1796                        2009-08-01     95\n",
       "date_end         14606    368                        2016-02-01    145\n",
       "date_modif_prod  14606   2129                        2015-11-01    721\n",
       "date_renewal     14606    386                        2015-06-23    587\n",
       "has_gas          14606      2                                 f  11955\n",
       "origin_up        14606      6  lxidpiddsbxsbosboudacockeimpuepw   7097"
      ]
     },
     "execution_count": 14,
     "metadata": {},
     "output_type": "execute_result"
    }
   ],
   "source": [
    "# Statistical overview of object data type for client data \n",
    "data.describe(include=\"object\").T"
   ]
  },
  {
   "cell_type": "markdown",
   "id": "7cb7b488",
   "metadata": {},
   "source": [
    "## Observations:\n",
    "* id: This repersents the identification of the client and might not add much to the analysis\n",
    "* channel_sales: There were 8 unique category, foosdfpfkusacimwkcsosbicdxkicaua was the top for channel sales with a freuency of 6754\n",
    "* date_active: There are 1796 active dates and the most active date is 2009-08-01 occuring 95 times\n",
    "* date_end: We have 368\tunique end dates and 2016-02-01\twas top on the list with 145 events\n",
    "* date_modification_production: 2129 unique date modification production date were on the set with 2015-11-01 as top with 721 occurence\n",
    "* date_of_renewal: 386 unique renewal dates were seen on the data set with the top date been 2015-06-23 and 587 occurence\n",
    "* has_gas: it has just two unique entry with f as the most populated with 11955 occurence\n",
    "* origin_up: 6 unique sets, lxidpiddsbxsbosboudacockeimpuepw as the top most with 7097 occurence\n",
    "*\n",
    "*"
   ]
  },
  {
   "cell_type": "code",
   "execution_count": 15,
   "id": "ed741a71",
   "metadata": {},
   "outputs": [
    {
     "name": "stdout",
     "output_type": "stream",
     "text": [
      "The sum of  values in id are:\n",
      "['24011ae4ebbe3035111d65fa7c15bc57' 'd29c2c54acc38ff3c0614d0a653813dd'\n",
      " '764c75f661154dac3a6c254cd082ea7d' ... '10e6828ddd62cbcf687cb74928c4c2d2'\n",
      " '1cf20fd6206d7678d5bcafd28c53b4db' '563dde550fd624d7352f3de77c0cdfcd']\n",
      "**************************************************\n",
      "The sum of  values in channel_sales are:\n",
      "['foosdfpfkusacimwkcsosbicdxkicaua' 'MISSING'\n",
      " 'lmkebamcaaclubfxadlmueccxoimlema' 'usilxuppasemubllopkaafesmlibmsdf'\n",
      " 'ewpakwlliwisiwduibdlfmalxowmwpci' 'epumfxlbckeskwekxbiuasklxalciiuu'\n",
      " 'sddiedcslfslkckwlfkdpoeeailfpeds' 'fixdbufsefwooaasfcxdxadsiekoceaa']\n",
      "**************************************************\n",
      "The sum of  values in date_activ are:\n",
      "['2013-06-15' '2009-08-21' '2010-04-16' ... '2009-04-30' '2013-03-10'\n",
      " '2004-12-29']\n",
      "**************************************************\n",
      "The sum of  values in date_end are:\n",
      "['2016-06-15' '2016-08-30' '2016-04-16' '2016-03-30' '2016-03-07'\n",
      " '2016-12-09' '2016-12-02' '2016-04-21' '2016-09-23' '2016-05-04'\n",
      " '2016-07-11' '2016-11-26' '2016-10-30' '2017-01-22' '2016-12-01'\n",
      " '2016-04-20' '2016-02-15' '2016-07-25' '2016-05-27' '2016-05-28'\n",
      " '2016-10-01' '2016-03-04' '2016-12-31' '2016-02-27' '2016-12-07'\n",
      " '2016-11-17' '2016-07-12' '2016-12-12' '2016-09-20' '2016-07-07'\n",
      " '2016-08-06' '2016-07-03' '2016-10-10' '2016-03-28' '2016-11-04'\n",
      " '2016-06-22' '2016-03-12' '2016-06-08' '2016-11-23' '2016-09-01'\n",
      " '2016-07-09' '2016-02-29' '2016-03-15' '2016-04-04' '2016-08-01'\n",
      " '2016-11-18' '2016-02-14' '2016-03-05' '2016-10-09' '2016-03-13'\n",
      " '2016-04-09' '2016-12-20' '2016-12-17' '2016-04-01' '2017-01-06'\n",
      " '2016-04-10' '2017-01-08' '2016-01-28' '2016-06-09' '2016-03-08'\n",
      " '2016-06-14' '2016-02-09' '2016-06-11' '2016-09-09' '2016-03-22'\n",
      " '2016-02-04' '2017-01-21' '2016-12-08' '2017-01-01' '2016-07-14'\n",
      " '2016-03-16' '2016-09-15' '2016-03-10' '2016-09-04' '2016-06-10'\n",
      " '2016-04-27' '2016-04-12' '2016-07-21' '2016-03-09' '2017-01-24'\n",
      " '2016-02-17' '2016-03-03' '2016-04-18' '2016-07-02' '2016-09-30'\n",
      " '2016-09-29' '2016-05-01' '2016-04-29' '2016-11-06' '2016-02-23'\n",
      " '2016-10-18' '2016-11-10' '2016-02-25' '2016-09-14' '2016-05-18'\n",
      " '2016-06-17' '2016-08-17' '2016-11-11' '2016-07-30' '2016-09-17'\n",
      " '2016-10-25' '2016-10-03' '2016-05-13' '2016-04-08' '2016-07-01'\n",
      " '2016-03-17' '2016-06-03' '2016-08-26' '2016-02-01' '2016-05-05'\n",
      " '2016-04-06' '2016-12-29' '2016-10-14' '2016-03-23' '2016-05-16'\n",
      " '2016-04-07' '2017-01-26' '2016-08-09' '2016-07-29' '2016-02-02'\n",
      " '2016-07-16' '2016-10-06' '2016-11-22' '2016-06-29' '2016-11-08'\n",
      " '2016-08-31' '2017-01-17' '2016-01-30' '2016-11-14' '2016-06-18'\n",
      " '2016-11-12' '2016-04-03' '2016-02-16' '2016-03-26' '2016-11-19'\n",
      " '2016-08-18' '2017-01-02' '2016-11-03' '2016-11-02' '2016-09-02'\n",
      " '2017-01-18' '2016-07-13' '2016-12-16' '2016-02-24' '2016-04-11'\n",
      " '2016-12-19' '2016-07-17' '2016-09-28' '2016-10-04' '2016-12-13'\n",
      " '2016-08-14' '2016-12-10' '2016-08-07' '2017-01-15' '2016-05-24'\n",
      " '2016-10-29' '2016-12-28' '2017-01-03' '2016-03-02' '2016-09-08'\n",
      " '2016-09-18' '2016-06-04' '2016-08-05' '2016-03-01' '2016-11-20'\n",
      " '2016-08-25' '2016-10-31' '2016-08-16' '2016-07-06' '2016-02-26'\n",
      " '2016-05-14' '2016-09-12' '2016-04-15' '2016-03-25' '2016-10-16'\n",
      " '2016-02-03' '2017-01-10' '2017-01-05' '2016-07-28' '2017-01-09'\n",
      " '2016-02-06' '2016-06-13' '2016-07-27' '2016-08-13' '2016-09-24'\n",
      " '2016-07-20' '2016-09-05' '2016-08-11' '2016-06-16' '2016-11-24'\n",
      " '2016-03-19' '2016-08-03' '2016-12-21' '2016-11-30' '2016-09-10'\n",
      " '2016-10-15' '2016-06-25' '2016-07-19' '2017-01-13' '2016-09-06'\n",
      " '2016-11-09' '2016-06-12' '2017-01-20' '2016-09-22' '2016-10-07'\n",
      " '2016-07-05' '2016-03-27' '2017-01-27' '2016-08-27' '2016-05-17'\n",
      " '2016-05-21' '2016-11-27' '2017-01-25' '2016-07-08' '2016-07-10'\n",
      " '2017-01-04' '2016-12-22' '2017-01-12' '2016-02-11' '2016-08-24'\n",
      " '2016-06-07' '2016-12-15' '2016-07-22' '2016-02-05' '2016-06-06'\n",
      " '2016-08-20' '2016-11-16' '2016-02-12' '2016-12-03' '2016-04-26'\n",
      " '2016-06-19' '2016-12-04' '2016-05-12' '2016-05-09' '2016-12-27'\n",
      " '2016-05-30' '2016-12-14' '2016-02-08' '2016-03-06' '2016-04-02'\n",
      " '2016-06-01' '2016-11-05' '2016-05-11' '2016-05-03' '2016-06-27'\n",
      " '2017-01-07' '2016-03-29' '2016-07-04' '2016-10-22' '2016-06-30'\n",
      " '2016-03-18' '2016-12-24' '2016-04-25' '2016-11-29' '2016-10-13'\n",
      " '2016-10-23' '2017-01-19' '2016-10-28' '2016-10-05' '2016-09-07'\n",
      " '2016-05-29' '2016-11-07' '2016-04-30' '2016-10-17' '2016-06-20'\n",
      " '2016-06-05' '2016-02-20' '2016-10-11' '2016-12-05' '2016-05-25'\n",
      " '2016-07-15' '2016-08-29' '2016-07-18' '2016-03-24' '2016-04-24'\n",
      " '2016-02-07' '2016-06-23' '2016-04-17' '2016-05-10' '2016-10-02'\n",
      " '2016-03-20' '2016-02-21' '2016-10-21' '2016-04-13' '2016-06-28'\n",
      " '2016-04-14' '2016-10-19' '2017-01-14' '2017-01-16' '2016-11-25'\n",
      " '2016-09-19' '2016-05-26' '2016-07-31' '2016-08-21' '2016-04-28'\n",
      " '2016-09-03' '2016-05-23' '2016-08-23' '2016-07-26' '2016-05-07'\n",
      " '2016-12-23' '2016-08-10' '2016-09-26' '2016-05-08' '2016-06-24'\n",
      " '2016-03-14' '2016-02-22' '2016-05-06' '2016-09-25' '2016-09-13'\n",
      " '2016-08-22' '2016-11-15' '2016-02-18' '2016-06-21' '2016-08-08'\n",
      " '2016-03-21' '2016-11-21' '2016-09-11' '2016-03-11' '2016-10-20'\n",
      " '2016-07-23' '2016-06-02' '2016-12-11' '2016-09-16' '2017-01-23'\n",
      " '2016-05-31' '2016-12-06' '2016-04-23' '2016-05-20' '2016-04-19'\n",
      " '2016-01-29' '2016-09-21' '2016-05-19' '2016-10-08' '2016-05-15'\n",
      " '2016-02-19' '2016-02-13' '2016-10-27' '2016-11-01' '2016-08-28'\n",
      " '2016-03-31' '2017-01-11' '2016-11-13' '2016-01-31' '2016-05-02'\n",
      " '2016-09-27' '2016-12-18' '2016-10-24' '2016-08-19' '2016-11-28'\n",
      " '2016-05-22' '2016-08-02' '2016-04-05' '2016-08-15' '2016-08-04'\n",
      " '2016-02-10' '2016-12-25' '2017-01-29' '2016-12-26' '2016-08-12'\n",
      " '2016-06-26' '2016-10-12' '2016-04-22' '2016-07-24' '2017-06-01'\n",
      " '2017-01-28' '2017-06-13' '2017-06-11']\n",
      "**************************************************\n",
      "The sum of  values in date_modif_prod are:\n",
      "['2015-11-01' '2009-08-21' '2010-04-16' ... '2014-06-14' '2009-01-23'\n",
      " '2015-05-08']\n",
      "**************************************************\n",
      "The sum of  values in date_renewal are:\n",
      "['2015-06-23' '2015-08-31' '2015-04-17' '2015-03-31' '2015-03-09'\n",
      " '2015-12-10' '2015-12-03' '2015-04-22' '2015-09-25' '2015-05-05'\n",
      " '2015-07-12' '2015-11-27' '2015-11-01' '2016-01-24' '2015-12-02'\n",
      " '2015-04-21' '2015-02-16' '2015-07-27' '2015-05-31' '2015-10-03'\n",
      " '2016-01-01' '2015-12-08' '2015-11-18' '2015-07-14' '2015-12-14'\n",
      " '2015-10-02' '2015-09-23' '2015-07-09' '2015-01-05' '2015-07-04'\n",
      " '2015-10-11' '2015-03-29' '2015-11-05' '2015-03-13' '2015-11-24'\n",
      " '2015-09-02' '2014-03-03' '2015-03-16' '2015-04-05' '2015-08-02'\n",
      " '2015-11-21' '2015-03-06' '2015-04-12' '2015-12-21' '2015-05-29'\n",
      " '2015-12-20' '2015-04-02' '2016-01-07' '2016-01-10' '2015-01-30'\n",
      " '2015-06-21' '2015-02-11' '2015-06-14' '2015-09-10' '2015-03-23'\n",
      " '2015-02-05' '2016-01-22' '2015-12-09' '2016-01-02' '2015-07-15'\n",
      " '2015-03-17' '2015-09-16' '2015-07-10' '2015-10-25' '2015-03-11'\n",
      " '2015-09-05' '2015-04-28' '2015-04-13' '2015-07-22' '2015-03-10'\n",
      " '2016-01-25' '2015-02-18' '2015-10-01' '2015-09-30' '2015-05-02'\n",
      " '2015-04-30' '2015-11-09' '2015-10-19' '2015-11-11' '2015-02-26'\n",
      " '2015-09-15' '2015-05-20' '2015-04-19' '2015-08-18' '2015-11-12'\n",
      " '2015-07-31' '2015-09-18' '2015-10-27' '2015-10-28' '2015-10-04'\n",
      " '2015-05-18' '2015-06-03' '2014-12-18' '2015-08-27' '2015-02-09'\n",
      " '2015-05-06' '2015-04-08' '2015-12-30' '2015-10-15' '2015-03-25'\n",
      " '2016-01-27' '2015-08-10' '2015-02-03' '2015-07-17' '2015-11-23'\n",
      " '2015-02-02' '2015-09-01' '2016-01-18' '2015-03-18' '2015-11-16'\n",
      " '2015-11-13' '2015-04-04' '2015-08-19' '2016-01-03' '2015-11-04'\n",
      " '2015-09-03' '2016-01-19' '2015-12-17' '2015-02-27' '2015-07-19'\n",
      " '2015-10-05' '2015-10-09' '2015-08-16' '2015-12-11' '2015-08-09'\n",
      " '2015-10-30' '2016-01-17' '2015-12-29' '2016-01-04' '2015-09-09'\n",
      " '2014-08-04' '2015-09-20' '2015-06-08' '2015-08-06' '2015-08-26'\n",
      " '2015-08-17' '2015-07-08' '2014-08-06' '2015-05-23' '2015-02-24'\n",
      " '2015-09-13' '2015-04-16' '2015-08-07' '2015-03-26' '2015-10-18'\n",
      " '2015-02-04' '2016-01-11' '2016-01-06' '2015-07-29' '2015-02-07'\n",
      " '2015-07-28' '2014-10-05' '2015-09-06' '2015-08-13' '2015-11-25'\n",
      " '2015-09-29' '2015-03-20' '2015-08-04' '2014-12-31' '2015-12-23'\n",
      " '2015-04-29' '2015-12-01' '2015-01-19' '2015-10-16' '2015-06-26'\n",
      " '2015-07-20' '2016-01-14' '2015-09-07' '2015-11-10' '2016-01-21'\n",
      " '2014-12-19' '2016-01-28' '2015-08-28' '2015-05-22' '2015-02-25'\n",
      " '2015-11-29' '2016-01-26' '2016-01-05' '2015-02-12' '2015-08-25'\n",
      " '2015-12-16' '2015-11-20' '2014-09-16' '2015-02-08' '2015-08-21'\n",
      " '2015-02-13' '2015-12-04' '2015-04-27' '2015-12-06' '2015-05-14'\n",
      " '2015-05-11' '2015-12-28' '2014-08-13' '2015-10-23' '2015-09-11'\n",
      " '2015-04-14' '2015-11-06' '2015-05-12' '2015-05-04' '2015-09-28'\n",
      " '2016-01-08' '2015-03-30' '2015-12-25' '2015-04-26' '2015-11-30'\n",
      " '2015-10-14' '2016-01-20' '2013-08-05' '2015-10-29' '2015-09-08'\n",
      " '2015-06-01' '2014-07-14' '2015-05-01' '2015-06-10' '2015-10-12'\n",
      " '2015-07-16' '2015-08-30' '2015-03-19' '2014-10-04' '2015-02-23'\n",
      " '2015-07-24' '2015-04-15' '2015-10-20' '2015-08-15' '2015-11-26'\n",
      " '2015-08-01' '2015-08-22' '2015-09-04' '2015-08-24' '2015-12-26'\n",
      " '2015-05-17' '2015-08-11' '2015-07-26' '2015-05-15' '2015-10-17'\n",
      " '2015-01-12' '2015-09-27' '2015-09-14' '2015-02-22' '2015-06-04'\n",
      " '2015-05-13' '2015-06-22' '2014-02-03' '2015-11-22' '2015-09-12'\n",
      " '2014-05-26' '2015-11-15' '2015-02-20' '2015-11-17' '2015-09-17'\n",
      " '2015-06-02' '2015-12-07' '2015-12-18' '2014-09-18' '2014-04-14'\n",
      " '2014-12-17' '2014-01-14' '2015-09-24' '2015-08-29' '2015-08-03'\n",
      " '2015-04-01' '2015-10-22' '2014-04-15' '2015-06-12' '2015-01-26'\n",
      " '2015-11-02' '2015-05-03' '2014-07-13' '2016-01-12' '2014-09-24'\n",
      " '2014-07-09' '2015-08-20' '2013-09-02' '2015-04-24' '2014-07-16'\n",
      " '2015-04-06' '2014-09-02' '2014-10-19' '2015-06-09' '2015-02-01'\n",
      " '2014-08-21' '2014-08-31' '2015-12-27' '2014-10-25' '2014-04-08'\n",
      " '2015-05-19' '2015-10-13' '2015-08-12' '2014-08-11' '2014-05-03'\n",
      " '2015-08-23' '2015-07-03' '2015-04-23' '2015-07-30' '2014-01-03'\n",
      " '2015-06-19' '2014-05-11' '2015-01-20' '2015-01-31' '2014-09-05'\n",
      " '2015-01-15' '2014-08-08' '2014-06-04' '2015-01-13' '2014-07-22'\n",
      " '2015-07-07' '2013-10-07' '2014-10-26' '2015-01-18' '2015-07-23'\n",
      " '2014-04-29' '2014-07-07' '2014-02-12' '2014-06-10' '2014-04-13'\n",
      " '2013-08-26' '2013-12-22' '2014-04-10' '2014-10-06' '2014-01-28'\n",
      " '2014-08-25' '2015-01-17' '2014-08-12' '2014-05-27' '2014-09-19'\n",
      " '2015-02-19' '2014-09-08' '2014-03-10' '2015-01-11' '2013-10-28'\n",
      " '2014-03-02' '2013-09-25' '2014-08-10' '2014-02-23' '2014-01-13'\n",
      " '2013-09-08' '2014-06-08' '2014-09-21' '2014-06-15' '2013-11-04'\n",
      " '2015-01-22' '2013-07-08' '2014-08-28' '2014-03-28' '2014-06-24'\n",
      " '2013-06-26' '2014-06-22' '2014-06-02' '2014-01-20' '2014-04-17'\n",
      " '2014-08-20' '2014-05-28' '2014-07-25' '2014-01-12' '2014-08-17'\n",
      " '2013-08-07' '2014-07-21' '2014-03-17' '2014-01-16' '2014-09-17'\n",
      " '2014-01-26' '2014-07-04' '2014-08-22' '2014-09-15' '2013-12-17'\n",
      " '2015-01-25' '2014-08-24' '2013-12-02' '2014-03-20' '2014-05-23'\n",
      " '2014-07-30' '2013-08-31' '2013-08-21' '2014-03-26' '2014-06-19'\n",
      " '2014-09-12' '2014-09-10' '2014-04-09' '2013-07-21' '2014-05-02'\n",
      " '2014-07-28' '2014-09-29' '2013-10-09' '2014-04-25' '2013-07-10'\n",
      " '2013-09-21']\n",
      "**************************************************\n",
      "The sum of  values in has_gas are:\n",
      "['t' 'f']\n",
      "**************************************************\n",
      "The sum of  values in origin_up are:\n",
      "['lxidpiddsbxsbosboudacockeimpuepw' 'kamkkxfxxuwbdslkwifmmcsiusiuosws'\n",
      " 'ldkssxwpmemidmecebumciepifcamkci' 'MISSING'\n",
      " 'usapbepcfoloekilkwsdiboslwaxobdp' 'ewxeelcelemmiwuafmddpobolfuxioce']\n",
      "**************************************************\n"
     ]
    }
   ],
   "source": [
    "# Unique values in object data types\n",
    "for i in data.describe(include=\"object\"):\n",
    "    print(f\"The sum of  values in {i} are:\")\n",
    "    print(f\"{pd.unique(data[i])}\")\n",
    "    print(\"*\" * 50)"
   ]
  },
  {
   "cell_type": "code",
   "execution_count": 16,
   "id": "471674c3",
   "metadata": {},
   "outputs": [
    {
     "data": {
      "text/plain": [
       "26"
      ]
     },
     "execution_count": 16,
     "metadata": {},
     "output_type": "execute_result"
    }
   ],
   "source": [
    "# confirming both numerical and object datatypes are complete\n",
    "length = len(data.describe().T) + len(data.describe(include=\"object\").T)\n",
    "length\n"
   ]
  },
  {
   "cell_type": "markdown",
   "id": "844cbf76",
   "metadata": {},
   "source": [
    "## Statistical Overview for price data"
   ]
  },
  {
   "cell_type": "code",
   "execution_count": 17,
   "id": "0f8fb4d1",
   "metadata": {},
   "outputs": [
    {
     "data": {
      "text/html": [
       "<div>\n",
       "<style scoped>\n",
       "    .dataframe tbody tr th:only-of-type {\n",
       "        vertical-align: middle;\n",
       "    }\n",
       "\n",
       "    .dataframe tbody tr th {\n",
       "        vertical-align: top;\n",
       "    }\n",
       "\n",
       "    .dataframe thead th {\n",
       "        text-align: right;\n",
       "    }\n",
       "</style>\n",
       "<table border=\"1\" class=\"dataframe\">\n",
       "  <thead>\n",
       "    <tr style=\"text-align: right;\">\n",
       "      <th></th>\n",
       "      <th>count</th>\n",
       "      <th>mean</th>\n",
       "      <th>std</th>\n",
       "      <th>min</th>\n",
       "      <th>25%</th>\n",
       "      <th>50%</th>\n",
       "      <th>75%</th>\n",
       "      <th>max</th>\n",
       "    </tr>\n",
       "  </thead>\n",
       "  <tbody>\n",
       "    <tr>\n",
       "      <th>price_off_peak_var</th>\n",
       "      <td>193002.0</td>\n",
       "      <td>0.141027</td>\n",
       "      <td>0.025032</td>\n",
       "      <td>0.0</td>\n",
       "      <td>0.125976</td>\n",
       "      <td>0.146033</td>\n",
       "      <td>0.151635</td>\n",
       "      <td>0.280700</td>\n",
       "    </tr>\n",
       "    <tr>\n",
       "      <th>price_peak_var</th>\n",
       "      <td>193002.0</td>\n",
       "      <td>0.054630</td>\n",
       "      <td>0.049924</td>\n",
       "      <td>0.0</td>\n",
       "      <td>0.000000</td>\n",
       "      <td>0.085483</td>\n",
       "      <td>0.101673</td>\n",
       "      <td>0.229788</td>\n",
       "    </tr>\n",
       "    <tr>\n",
       "      <th>price_mid_peak_var</th>\n",
       "      <td>193002.0</td>\n",
       "      <td>0.030496</td>\n",
       "      <td>0.036298</td>\n",
       "      <td>0.0</td>\n",
       "      <td>0.000000</td>\n",
       "      <td>0.000000</td>\n",
       "      <td>0.072558</td>\n",
       "      <td>0.114102</td>\n",
       "    </tr>\n",
       "    <tr>\n",
       "      <th>price_off_peak_fix</th>\n",
       "      <td>193002.0</td>\n",
       "      <td>43.334477</td>\n",
       "      <td>5.410297</td>\n",
       "      <td>0.0</td>\n",
       "      <td>40.728885</td>\n",
       "      <td>44.266930</td>\n",
       "      <td>44.444710</td>\n",
       "      <td>59.444710</td>\n",
       "    </tr>\n",
       "    <tr>\n",
       "      <th>price_peak_fix</th>\n",
       "      <td>193002.0</td>\n",
       "      <td>10.622875</td>\n",
       "      <td>12.841895</td>\n",
       "      <td>0.0</td>\n",
       "      <td>0.000000</td>\n",
       "      <td>0.000000</td>\n",
       "      <td>24.339581</td>\n",
       "      <td>36.490692</td>\n",
       "    </tr>\n",
       "    <tr>\n",
       "      <th>price_mid_peak_fix</th>\n",
       "      <td>193002.0</td>\n",
       "      <td>6.409984</td>\n",
       "      <td>7.773592</td>\n",
       "      <td>0.0</td>\n",
       "      <td>0.000000</td>\n",
       "      <td>0.000000</td>\n",
       "      <td>16.226389</td>\n",
       "      <td>17.458221</td>\n",
       "    </tr>\n",
       "  </tbody>\n",
       "</table>\n",
       "</div>"
      ],
      "text/plain": [
       "                       count       mean        std  min        25%        50%  \\\n",
       "price_off_peak_var  193002.0   0.141027   0.025032  0.0   0.125976   0.146033   \n",
       "price_peak_var      193002.0   0.054630   0.049924  0.0   0.000000   0.085483   \n",
       "price_mid_peak_var  193002.0   0.030496   0.036298  0.0   0.000000   0.000000   \n",
       "price_off_peak_fix  193002.0  43.334477   5.410297  0.0  40.728885  44.266930   \n",
       "price_peak_fix      193002.0  10.622875  12.841895  0.0   0.000000   0.000000   \n",
       "price_mid_peak_fix  193002.0   6.409984   7.773592  0.0   0.000000   0.000000   \n",
       "\n",
       "                          75%        max  \n",
       "price_off_peak_var   0.151635   0.280700  \n",
       "price_peak_var       0.101673   0.229788  \n",
       "price_mid_peak_var   0.072558   0.114102  \n",
       "price_off_peak_fix  44.444710  59.444710  \n",
       "price_peak_fix      24.339581  36.490692  \n",
       "price_mid_peak_fix  16.226389  17.458221  "
      ]
     },
     "execution_count": 17,
     "metadata": {},
     "output_type": "execute_result"
    }
   ],
   "source": [
    "# Statistical overview of the price data\n",
    "price.describe().T"
   ]
  },
  {
   "cell_type": "markdown",
   "id": "e659b931",
   "metadata": {},
   "source": [
    "## Obervation:\n",
    "### There were no missing data\n",
    "* price_off_peak_var: \n",
    "* price_peak_var:\n",
    "* price_mid_peak_var:\n",
    "* price_off_peak_fix:\n",
    "* price_peak_fix :\n",
    "* price_mid_peak_fix:"
   ]
  },
  {
   "cell_type": "code",
   "execution_count": 18,
   "id": "3475b61d",
   "metadata": {},
   "outputs": [
    {
     "data": {
      "text/html": [
       "<div>\n",
       "<style scoped>\n",
       "    .dataframe tbody tr th:only-of-type {\n",
       "        vertical-align: middle;\n",
       "    }\n",
       "\n",
       "    .dataframe tbody tr th {\n",
       "        vertical-align: top;\n",
       "    }\n",
       "\n",
       "    .dataframe thead th {\n",
       "        text-align: right;\n",
       "    }\n",
       "</style>\n",
       "<table border=\"1\" class=\"dataframe\">\n",
       "  <thead>\n",
       "    <tr style=\"text-align: right;\">\n",
       "      <th></th>\n",
       "      <th>id</th>\n",
       "      <th>price_date</th>\n",
       "    </tr>\n",
       "  </thead>\n",
       "  <tbody>\n",
       "    <tr>\n",
       "      <th>count</th>\n",
       "      <td>193002</td>\n",
       "      <td>193002</td>\n",
       "    </tr>\n",
       "    <tr>\n",
       "      <th>unique</th>\n",
       "      <td>16096</td>\n",
       "      <td>12</td>\n",
       "    </tr>\n",
       "    <tr>\n",
       "      <th>top</th>\n",
       "      <td>038af19179925da21a25619c5a24b745</td>\n",
       "      <td>2015-08-01</td>\n",
       "    </tr>\n",
       "    <tr>\n",
       "      <th>freq</th>\n",
       "      <td>12</td>\n",
       "      <td>16094</td>\n",
       "    </tr>\n",
       "  </tbody>\n",
       "</table>\n",
       "</div>"
      ],
      "text/plain": [
       "                                      id  price_date\n",
       "count                             193002      193002\n",
       "unique                             16096          12\n",
       "top     038af19179925da21a25619c5a24b745  2015-08-01\n",
       "freq                                  12       16094"
      ]
     },
     "execution_count": 18,
     "metadata": {},
     "output_type": "execute_result"
    }
   ],
   "source": [
    "# Statistical overview of object data type for price data\n",
    "price.describe(include=\"object\")"
   ]
  },
  {
   "cell_type": "markdown",
   "id": "3abbe655",
   "metadata": {},
   "source": [
    "## Obervation:\n",
    "* id:\n",
    "* price_date:"
   ]
  },
  {
   "cell_type": "code",
   "execution_count": 19,
   "id": "99a5e1be",
   "metadata": {},
   "outputs": [
    {
     "data": {
      "text/plain": [
       "8"
      ]
     },
     "execution_count": 19,
     "metadata": {},
     "output_type": "execute_result"
    }
   ],
   "source": [
    "# confirming both numerical and object datatypes are complete\n",
    "length2 = len(price.describe().T) + len(price.describe(include=\"object\").T)\n",
    "length2 "
   ]
  },
  {
   "cell_type": "code",
   "execution_count": 20,
   "id": "e7951963",
   "metadata": {},
   "outputs": [
    {
     "data": {
      "text/plain": [
       "(8, 26)"
      ]
     },
     "execution_count": 20,
     "metadata": {},
     "output_type": "execute_result"
    }
   ],
   "source": [
    "len(price.columns), len(data.columns)"
   ]
  },
  {
   "cell_type": "markdown",
   "id": "e05f89bd",
   "metadata": {},
   "source": [
    "## EDA\n",
    "Visualising our data with matplotlib:"
   ]
  },
  {
   "cell_type": "code",
   "execution_count": 21,
   "id": "03993620",
   "metadata": {},
   "outputs": [],
   "source": [
    "# numerical columns for client data set\n",
    "client = [\"cons_12m\", 'cons_gas_12m',  'cons_last_month' , 'forecast_cons_12m', 'forecast_cons_year', 'forecast_discount_energy','forecast_meter_rent_12m','forecast_price_energy_off_peak','forecast_price_energy_peak', 'forecast_price_pow_off_peak', 'imp_cons',\n",
    "       'margin_gross_pow_ele', 'margin_net_pow_ele', 'nb_prod_act','net_margin', 'num_years_antig', 'pow_max', 'churn']"
   ]
  },
  {
   "cell_type": "code",
   "execution_count": 22,
   "id": "1548e8c5",
   "metadata": {},
   "outputs": [],
   "source": [
    "import warnings\n",
    "warnings.filterwarnings(\"ignore\")"
   ]
  },
  {
   "cell_type": "code",
   "execution_count": 23,
   "id": "ae0de1d3",
   "metadata": {},
   "outputs": [
    {
     "data": {
      "image/png": "[encoded data removed]",
      "text/plain": [
       "<Figure size 432x288 with 2 Axes>"
      ]
     },
     "metadata": {
      "needs_background": "light"
     },
     "output_type": "display_data"
    }
   ],
   "source": [
    "# Visualisation for \"cons_12m\"\n",
    "# Cut the window in 2 parts\n",
    "f, (ax_box, ax_hist) = plt.subplots(2, sharex=True, gridspec_kw={\"height_ratios\": (.15, .85)})\n",
    "sns.set(style=\"darkgrid\")\n",
    "# Add a graph in each part\n",
    "sns.boxplot(data[\"cons_12m\"], ax=ax_box)\n",
    "sns.distplot(data[\"cons_12m\"], ax=ax_hist)\n",
    "ax_box.set(xlabel=\"cons_12m\")\n",
    "plt.show()"
   ]
  },
  {
   "cell_type": "code",
   "execution_count": 24,
   "id": "e4ee3709",
   "metadata": {},
   "outputs": [
    {
     "data": {
      "image/png": "[encoded data removed]",
      "text/plain": [
       "<Figure size 432x288 with 2 Axes>"
      ]
     },
     "metadata": {},
     "output_type": "display_data"
    }
   ],
   "source": [
    "# Visualisation for 'cons_gas_12m'\n",
    "# Cut the window in 2 parts\n",
    "f, (ax_box, ax_hist) = plt.subplots(2, sharex=True, gridspec_kw={\"height_ratios\": (.15, .85)})\n",
    "sns.set(style=\"darkgrid\")\n",
    "# Add a graph in each part\n",
    "sns.boxplot(data['cons_gas_12m'], ax=ax_box)\n",
    "sns.distplot(data['cons_gas_12m'], ax=ax_hist)\n",
    "ax_box.set(xlabel='cons_gas_12m')\n",
    "plt.show()"
   ]
  },
  {
   "cell_type": "code",
   "execution_count": 25,
   "id": "f3fbae8b",
   "metadata": {},
   "outputs": [
    {
     "data": {
      "text/plain": [
       "[Text(0.5, 0, 'forecast_cons_12m')]"
      ]
     },
     "execution_count": 25,
     "metadata": {},
     "output_type": "execute_result"
    },
    {
     "data": {
      "image/png": "[encoded data removed]",
      "text/plain": [
       "<Figure size 432x288 with 2 Axes>"
      ]
     },
     "metadata": {},
     "output_type": "display_data"
    }
   ],
   "source": [
    "# Visualisation for 'cons_last_month'\n",
    "# Cut the window in 2 parts\n",
    "fig, (ax_box, ax_hist) = plt.subplots(2, sharex=True, gridspec_kw={\"height_ratios\": (.15, .85)})\n",
    "sns.set(style=\"ticks\")\n",
    "# Add a graph in each part\n",
    "sns.boxplot(data[\"forecast_cons_12m\"], ax=ax_box)\n",
    "sns.distplot(data[\"forecast_cons_12m\"], ax=ax_hist)\n",
    "ax_box.set(xlabel=\"forecast_cons_12m\")\n"
   ]
  },
  {
   "cell_type": "code",
   "execution_count": 26,
   "id": "ac4d4cae",
   "metadata": {},
   "outputs": [
    {
     "data": {
      "text/plain": [
       "[Text(0.5, 0, 'forecast_cons_year')]"
      ]
     },
     "execution_count": 26,
     "metadata": {},
     "output_type": "execute_result"
    },
    {
     "data": {
      "image/png": "[encoded data removed]",
      "text/plain": [
       "<Figure size 432x288 with 2 Axes>"
      ]
     },
     "metadata": {},
     "output_type": "display_data"
    }
   ],
   "source": [
    "# Visualisation for 'forecast_cons_year''\n",
    "# Cut the window in 2 parts\n",
    "fig, (ax_box, ax_hist) = plt.subplots(2, sharex=True, gridspec_kw={\"height_ratios\":(.15, .85)})\n",
    "sns.set(style=\"whitegrid\")\n",
    "# Add graph in each part\n",
    "sns.boxplot(data[\"forecast_cons_year\"], ax=ax_box)\n",
    "sns.distplot(data['forecast_cons_year'], ax=ax_hist)\n",
    "ax_box.set(xlabel=\"forecast_cons_year\")                                      "
   ]
  },
  {
   "cell_type": "code",
   "execution_count": 27,
   "id": "629dd411",
   "metadata": {},
   "outputs": [
    {
     "data": {
      "text/plain": [
       "[Text(0.5, 0, 'forecast_discount_energy')]"
      ]
     },
     "execution_count": 27,
     "metadata": {},
     "output_type": "execute_result"
    },
    {
     "data": {
      "image/png": "[encoded data removed]",
      "text/plain": [
       "<Figure size 432x288 with 2 Axes>"
      ]
     },
     "metadata": {},
     "output_type": "display_data"
    }
   ],
   "source": [
    "# Visualisation for 'forecast_discount_energy'\n",
    "# cut window in 2 part\n",
    "fig, (ax_box, ax_dist) = plt.subplots(2, sharex=True, gridspec_kw={\"height_ratios\":(.15, .85)})\n",
    "sns.set(style=\"dark\")\n",
    "# Add graph in each part\n",
    "sns.boxplot(data['forecast_discount_energy'], ax=ax_box)\n",
    "sns.histplot(data['forecast_discount_energy'], ax=ax_hist)\n",
    "ax_box.set(xlabel='forecast_discount_energy')"
   ]
  },
  {
   "cell_type": "code",
   "execution_count": 28,
   "id": "fcb4fa82",
   "metadata": {},
   "outputs": [
    {
     "data": {
      "text/plain": [
       "[Text(0.5, 0, 'forecast_meter_rent_12m')]"
      ]
     },
     "execution_count": 28,
     "metadata": {},
     "output_type": "execute_result"
    },
    {
     "data": {
      "image/png": "[encoded data removed]",
      "text/plain": [
       "<Figure size 432x288 with 2 Axes>"
      ]
     },
     "metadata": {},
     "output_type": "display_data"
    }
   ],
   "source": [
    "# Visualisation for 'forecast_meter_rent_12m'\n",
    "# Cut windows into two parts\n",
    "fig, (ax_box, ax_hist) = plt.subplots(2, sharex=True, gridspec_kw={\"height_ratios\": (0.15, .85)})\n",
    "sns.set(style=\"dark\")\n",
    "# graph in each part\n",
    "sns.boxplot(data['forecast_meter_rent_12m'], ax=ax_box)\n",
    "sns.histplot(data['forecast_meter_rent_12m'], ax=ax_hist)\n",
    "ax_box.set(xlabel='forecast_meter_rent_12m')"
   ]
  },
  {
   "cell_type": "code",
   "execution_count": 29,
   "id": "b59647e8",
   "metadata": {},
   "outputs": [
    {
     "data": {
      "text/plain": [
       "[Text(0.5, 0, 'forecast_meter_rent_12m')]"
      ]
     },
     "execution_count": 29,
     "metadata": {},
     "output_type": "execute_result"
    },
    {
     "data": {
      "image/png": "[encoded data removed]",
      "text/plain": [
       "<Figure size 432x288 with 2 Axes>"
      ]
     },
     "metadata": {},
     "output_type": "display_data"
    }
   ],
   "source": [
    "# Visualisation for forecast_meter_rent_12m\n",
    "# Cut window into two parts\n",
    "fig, (ax1, ax2) = plt.subplots(2, sharex=True, gridspec_kw={\"height_ratios\" : (.15, .85)})\n",
    "sns.set(style=\"whitegrid\")\n",
    "#Add graph in each part\n",
    "sns.boxplot(data[\"forecast_meter_rent_12m\"], ax=ax1)\n",
    "sns.distplot(data[\"forecast_meter_rent_12m\"], ax=ax2)\n",
    "ax1.set(xlabel='forecast_meter_rent_12m')"
   ]
  },
  {
   "cell_type": "code",
   "execution_count": 30,
   "id": "c046c37e",
   "metadata": {},
   "outputs": [
    {
     "data": {
      "text/plain": [
       "[Text(0.5, 0, 'forecast_discount_energy')]"
      ]
     },
     "execution_count": 30,
     "metadata": {},
     "output_type": "execute_result"
    },
    {
     "data": {
      "image/png": "[encoded data removed]",
      "text/plain": [
       "<Figure size 432x288 with 2 Axes>"
      ]
     },
     "metadata": {},
     "output_type": "display_data"
    }
   ],
   "source": [
    "# Visualisation for 'forecast_discount_energy'\n",
    "# Cut the windows into two parts\n",
    "fig, (ax_box, ax_dist) = plt.subplots(2, sharex=True, gridspec_kw={'height_ratios': (.15, .85)})\n",
    "sns.set(style=\"dark\")\n",
    "#Add graph in each part\n",
    "sns.boxplot(data['forecast_discount_energy'], ax=ax_box)\n",
    "sns.distplot(data['forecast_discount_energy'], ax=ax_dist)\n",
    "ax_box.set(xlabel='forecast_discount_energy')"
   ]
  },
  {
   "cell_type": "code",
   "execution_count": 31,
   "id": "b9d9407b",
   "metadata": {},
   "outputs": [
    {
     "data": {
      "text/plain": [
       "Index(['id', 'channel_sales', 'date_activ', 'date_end', 'date_modif_prod',\n",
       "       'date_renewal', 'has_gas', 'origin_up'],\n",
       "      dtype='object')"
      ]
     },
     "execution_count": 31,
     "metadata": {},
     "output_type": "execute_result"
    }
   ],
   "source": [
    "data.describe(include=\"object\").columns"
   ]
  },
  {
   "cell_type": "code",
   "execution_count": 32,
   "id": "c40558d8",
   "metadata": {},
   "outputs": [
    {
     "data": {
      "text/plain": [
       "<AxesSubplot:xlabel='channel_sales', ylabel='churn'>"
      ]
     },
     "execution_count": 32,
     "metadata": {},
     "output_type": "execute_result"
    },
    {
     "data": {
      "image/png": "[encoded data removed]",
      "text/plain": [
       "<Figure size 432x288 with 1 Axes>"
      ]
     },
     "metadata": {},
     "output_type": "display_data"
    }
   ],
   "source": [
    "(pd.crosstab(data['channel_sales'], data['churn']).plot(kind=\"bar\", xlabel='channel_sales', ylabel='churn' ))"
   ]
  },
  {
   "cell_type": "code",
   "execution_count": 33,
   "id": "c4ef8960",
   "metadata": {},
   "outputs": [
    {
     "data": {
      "text/plain": [
       "<AxesSubplot:ylabel='Frequency'>"
      ]
     },
     "execution_count": 33,
     "metadata": {},
     "output_type": "execute_result"
    },
    {
     "data": {
      "image/png": "[encoded data removed]",
      "text/plain": [
       "<Figure size 432x288 with 1 Axes>"
      ]
     },
     "metadata": {},
     "output_type": "display_data"
    }
   ],
   "source": [
    "(pd.crosstab(data['date_activ'], data['churn']).plot(kind=\"hist\", xlabel='date_activ', ylabel = \"churn\"))"
   ]
  },
  {
   "cell_type": "code",
   "execution_count": 34,
   "id": "e8b076df",
   "metadata": {},
   "outputs": [
    {
     "data": {
      "text/plain": [
       "<AxesSubplot:ylabel='Frequency'>"
      ]
     },
     "execution_count": 34,
     "metadata": {},
     "output_type": "execute_result"
    },
    {
     "data": {
      "image/png": "[encoded data removed]",
      "text/plain": [
       "<Figure size 432x288 with 1 Axes>"
      ]
     },
     "metadata": {},
     "output_type": "display_data"
    }
   ],
   "source": [
    "(pd.crosstab(data['date_end'], data['churn']).plot(kind=\"hist\", xlabel='date_end', ylabel=\"churn\" ))"
   ]
  },
  {
   "cell_type": "code",
   "execution_count": 35,
   "id": "b49e36b1",
   "metadata": {},
   "outputs": [
    {
     "data": {
      "text/plain": [
       "<AxesSubplot:ylabel='Frequency'>"
      ]
     },
     "execution_count": 35,
     "metadata": {},
     "output_type": "execute_result"
    },
    {
     "data": {
      "image/png": "[encoded data removed]",
      "text/plain": [
       "<Figure size 432x288 with 1 Axes>"
      ]
     },
     "metadata": {},
     "output_type": "display_data"
    }
   ],
   "source": [
    "(pd.crosstab(data['date_modif_prod'][:10], data['churn']).plot(kind=\"hist\", xlabel=\"date_modif_prod\", ylabel=\"churn\"))"
   ]
  },
  {
   "cell_type": "code",
   "execution_count": 36,
   "id": "942d6044",
   "metadata": {},
   "outputs": [
    {
     "data": {
      "text/plain": [
       "<AxesSubplot:xlabel='date_renewal', ylabel='churn'>"
      ]
     },
     "execution_count": 36,
     "metadata": {},
     "output_type": "execute_result"
    },
    {
     "data": {
      "image/png": "[encoded data removed]",
      "text/plain": [
       "<Figure size 432x288 with 1 Axes>"
      ]
     },
     "metadata": {},
     "output_type": "display_data"
    }
   ],
   "source": [
    "(pd.crosstab(data['date_renewal'][:10], data['churn']).plot(kind=\"line\", xlabel=\"date_renewal\", ylabel=\"churn\"))"
   ]
  },
  {
   "cell_type": "code",
   "execution_count": 37,
   "id": "2dbe6476",
   "metadata": {},
   "outputs": [
    {
     "data": {
      "text/plain": [
       "<AxesSubplot:xlabel='has_gas', ylabel='churn'>"
      ]
     },
     "execution_count": 37,
     "metadata": {},
     "output_type": "execute_result"
    },
    {
     "data": {
      "image/png": "[encoded data removed]",
      "text/plain": [
       "<Figure size 432x288 with 1 Axes>"
      ]
     },
     "metadata": {},
     "output_type": "display_data"
    }
   ],
   "source": [
    "(pd.crosstab(data['has_gas'][:10], data['churn']).plot(kind=\"line\", xlabel='has_gas', ylabel=\"churn\" ))"
   ]
  },
  {
   "cell_type": "code",
   "execution_count": 38,
   "id": "c7da1240",
   "metadata": {},
   "outputs": [
    {
     "data": {
      "text/plain": [
       "<AxesSubplot:xlabel='origin_up', ylabel='churn'>"
      ]
     },
     "execution_count": 38,
     "metadata": {},
     "output_type": "execute_result"
    },
    {
     "data": {
      "image/png": "[encoded data removed]",
      "text/plain": [
       "<Figure size 432x288 with 1 Axes>"
      ]
     },
     "metadata": {},
     "output_type": "display_data"
    }
   ],
   "source": [
    "(pd.crosstab(data['origin_up'][:15], data['churn']).plot(kind=\"bar\", xlabel=\"origin_up\", ylabel=\"churn\"))"
   ]
  },
  {
   "cell_type": "markdown",
   "id": "ec8c41f1",
   "metadata": {},
   "source": [
    "## Visualising Price data set"
   ]
  },
  {
   "cell_type": "code",
   "execution_count": 39,
   "id": "92c027b7",
   "metadata": {},
   "outputs": [
    {
     "data": {
      "text/plain": [
       "Index(['price_off_peak_var', 'price_peak_var', 'price_mid_peak_var',\n",
       "       'price_off_peak_fix', 'price_peak_fix', 'price_mid_peak_fix'],\n",
       "      dtype='object')"
      ]
     },
     "execution_count": 39,
     "metadata": {},
     "output_type": "execute_result"
    }
   ],
   "source": [
    "# Differentiating numerical columns from object column\n",
    "price.describe().columns"
   ]
  },
  {
   "cell_type": "code",
   "execution_count": 40,
   "id": "f4c13671",
   "metadata": {},
   "outputs": [
    {
     "data": {
      "text/plain": [
       "[Text(0.5, 0, \"'price_off_peak_var'\")]"
      ]
     },
     "execution_count": 40,
     "metadata": {},
     "output_type": "execute_result"
    },
    {
     "data": {
      "image/png": "[encoded data removed]",
      "text/plain": [
       "<Figure size 432x288 with 2 Axes>"
      ]
     },
     "metadata": {},
     "output_type": "display_data"
    }
   ],
   "source": [
    "# Visualising for  'price_off_peak_var'\n",
    "fig, (ax_box, ax_hist) = plt.subplots(2, sharex=True, gridspec_kw={'height_ratios': (.15, .85)})\n",
    "sns.set(style=\"whitegrid\")\n",
    "# Add graph in each part\n",
    "sns.boxplot(price['price_off_peak_var'], ax=ax_box)\n",
    "sns.distplot(price['price_off_peak_var'], ax=ax_hist)\n",
    "ax_box.set(xlabel=\"'price_off_peak_var'\")"
   ]
  },
  {
   "cell_type": "code",
   "execution_count": 41,
   "id": "8191abae",
   "metadata": {},
   "outputs": [
    {
     "data": {
      "text/plain": [
       "[Text(0.5, 0, 'Price peak var')]"
      ]
     },
     "execution_count": 41,
     "metadata": {},
     "output_type": "execute_result"
    },
    {
     "data": {
      "image/png": "[encoded data removed]",
      "text/plain": [
       "<Figure size 432x288 with 2 Axes>"
      ]
     },
     "metadata": {},
     "output_type": "display_data"
    }
   ],
   "source": [
    "# Visualising for 'price_peak_var'\n",
    "#  Cut the window in 2 parts\n",
    "fig, (ax_box, ax_hist) = plt.subplots(2, sharex=True, gridspec_kw={'height_ratios':(.15, .85)})\n",
    "sns.set(style=\"darkgrid\")\n",
    "# Add graph to each side\n",
    "sns.boxplot(price['price_peak_var'], ax=ax_box )\n",
    "sns.histplot(price[\"price_peak_var\"], ax=ax_hist)\n",
    "ax_box.set(xlabel=\"Price peak var\")"
   ]
  },
  {
   "cell_type": "code",
   "execution_count": 42,
   "id": "6a3fdf63",
   "metadata": {},
   "outputs": [
    {
     "data": {
      "text/plain": [
       "Index(['id', 'price_date'], dtype='object')"
      ]
     },
     "execution_count": 42,
     "metadata": {},
     "output_type": "execute_result"
    }
   ],
   "source": [
    "price.describe(include=\"object\").columns"
   ]
  },
  {
   "cell_type": "code",
   "execution_count": 54,
   "id": "c2ac0713",
   "metadata": {},
   "outputs": [
    {
     "data": {
      "image/png": "[encoded data removed]",
      "text/plain": [
       "<Figure size 720x288 with 4 Axes>"
      ]
     },
     "metadata": {},
     "output_type": "display_data"
    }
   ],
   "source": [
    "# Visualising for 'price_peak_var'\n",
    "#  Cut the window in 4 parts\n",
    "fig, ((ax1, ax2), (ax3, ax4)) = plt.subplots(nrows=2, ncols =2, figsize=(10,4))\n",
    "\n",
    "# Plot data to each axis\n",
    "ax1.scatter(price['price_mid_peak_var'][:10], price['price_date'][:10]);\n",
    "ax2.scatter(price['price_peak_fix'][:10], price['price_date'][:10]);\n",
    "ax3.scatter(price['price_mid_peak_fix'][:10], price['price_date'][:10]);\n",
    "ax4.plot(price['price_mid_peak_fix'][:10], price['price_date'][:10]);\n",
    "      "
   ]
  },
  {
   "cell_type": "code",
   "execution_count": 46,
   "id": "740848b6",
   "metadata": {},
   "outputs": [
    {
     "data": {
      "text/html": [
       "<div>\n",
       "<style scoped>\n",
       "    .dataframe tbody tr th:only-of-type {\n",
       "        vertical-align: middle;\n",
       "    }\n",
       "\n",
       "    .dataframe tbody tr th {\n",
       "        vertical-align: top;\n",
       "    }\n",
       "\n",
       "    .dataframe thead th {\n",
       "        text-align: right;\n",
       "    }\n",
       "</style>\n",
       "<table border=\"1\" class=\"dataframe\">\n",
       "  <thead>\n",
       "    <tr style=\"text-align: right;\">\n",
       "      <th>price_mid_peak_var</th>\n",
       "      <th>0.000000</th>\n",
       "      <th>0.007216</th>\n",
       "      <th>0.012183</th>\n",
       "      <th>0.058456</th>\n",
       "      <th>0.058510</th>\n",
       "      <th>0.061389</th>\n",
       "      <th>0.061443</th>\n",
       "      <th>0.063259</th>\n",
       "      <th>0.063313</th>\n",
       "      <th>0.063679</th>\n",
       "      <th>...</th>\n",
       "      <th>0.099286</th>\n",
       "      <th>0.099635</th>\n",
       "      <th>0.101027</th>\n",
       "      <th>0.101037</th>\n",
       "      <th>0.103097</th>\n",
       "      <th>0.103142</th>\n",
       "      <th>0.103151</th>\n",
       "      <th>0.103502</th>\n",
       "      <th>0.104202</th>\n",
       "      <th>0.114102</th>\n",
       "    </tr>\n",
       "    <tr>\n",
       "      <th>price_date</th>\n",
       "      <th></th>\n",
       "      <th></th>\n",
       "      <th></th>\n",
       "      <th></th>\n",
       "      <th></th>\n",
       "      <th></th>\n",
       "      <th></th>\n",
       "      <th></th>\n",
       "      <th></th>\n",
       "      <th></th>\n",
       "      <th></th>\n",
       "      <th></th>\n",
       "      <th></th>\n",
       "      <th></th>\n",
       "      <th></th>\n",
       "      <th></th>\n",
       "      <th></th>\n",
       "      <th></th>\n",
       "      <th></th>\n",
       "      <th></th>\n",
       "      <th></th>\n",
       "    </tr>\n",
       "  </thead>\n",
       "  <tbody>\n",
       "    <tr>\n",
       "      <th>2015-01-01</th>\n",
       "      <td>9341</td>\n",
       "      <td>0</td>\n",
       "      <td>1</td>\n",
       "      <td>0</td>\n",
       "      <td>1</td>\n",
       "      <td>0</td>\n",
       "      <td>1</td>\n",
       "      <td>0</td>\n",
       "      <td>1</td>\n",
       "      <td>3</td>\n",
       "      <td>...</td>\n",
       "      <td>0</td>\n",
       "      <td>1</td>\n",
       "      <td>5</td>\n",
       "      <td>0</td>\n",
       "      <td>0</td>\n",
       "      <td>0</td>\n",
       "      <td>0</td>\n",
       "      <td>0</td>\n",
       "      <td>0</td>\n",
       "      <td>1</td>\n",
       "    </tr>\n",
       "    <tr>\n",
       "      <th>2015-02-01</th>\n",
       "      <td>9356</td>\n",
       "      <td>0</td>\n",
       "      <td>1</td>\n",
       "      <td>0</td>\n",
       "      <td>1</td>\n",
       "      <td>0</td>\n",
       "      <td>1</td>\n",
       "      <td>0</td>\n",
       "      <td>1</td>\n",
       "      <td>3</td>\n",
       "      <td>...</td>\n",
       "      <td>0</td>\n",
       "      <td>0</td>\n",
       "      <td>2</td>\n",
       "      <td>0</td>\n",
       "      <td>0</td>\n",
       "      <td>0</td>\n",
       "      <td>7</td>\n",
       "      <td>0</td>\n",
       "      <td>0</td>\n",
       "      <td>1</td>\n",
       "    </tr>\n",
       "    <tr>\n",
       "      <th>2015-03-01</th>\n",
       "      <td>9371</td>\n",
       "      <td>0</td>\n",
       "      <td>1</td>\n",
       "      <td>0</td>\n",
       "      <td>1</td>\n",
       "      <td>0</td>\n",
       "      <td>1</td>\n",
       "      <td>0</td>\n",
       "      <td>1</td>\n",
       "      <td>3</td>\n",
       "      <td>...</td>\n",
       "      <td>2</td>\n",
       "      <td>0</td>\n",
       "      <td>2</td>\n",
       "      <td>0</td>\n",
       "      <td>0</td>\n",
       "      <td>1</td>\n",
       "      <td>7</td>\n",
       "      <td>0</td>\n",
       "      <td>0</td>\n",
       "      <td>1</td>\n",
       "    </tr>\n",
       "    <tr>\n",
       "      <th>2015-04-01</th>\n",
       "      <td>9379</td>\n",
       "      <td>0</td>\n",
       "      <td>1</td>\n",
       "      <td>0</td>\n",
       "      <td>1</td>\n",
       "      <td>0</td>\n",
       "      <td>1</td>\n",
       "      <td>0</td>\n",
       "      <td>1</td>\n",
       "      <td>3</td>\n",
       "      <td>...</td>\n",
       "      <td>5</td>\n",
       "      <td>0</td>\n",
       "      <td>4</td>\n",
       "      <td>10</td>\n",
       "      <td>0</td>\n",
       "      <td>0</td>\n",
       "      <td>7</td>\n",
       "      <td>0</td>\n",
       "      <td>0</td>\n",
       "      <td>0</td>\n",
       "    </tr>\n",
       "    <tr>\n",
       "      <th>2015-05-01</th>\n",
       "      <td>9410</td>\n",
       "      <td>0</td>\n",
       "      <td>1</td>\n",
       "      <td>0</td>\n",
       "      <td>1</td>\n",
       "      <td>0</td>\n",
       "      <td>1</td>\n",
       "      <td>0</td>\n",
       "      <td>1</td>\n",
       "      <td>2</td>\n",
       "      <td>...</td>\n",
       "      <td>6</td>\n",
       "      <td>0</td>\n",
       "      <td>1</td>\n",
       "      <td>14</td>\n",
       "      <td>0</td>\n",
       "      <td>0</td>\n",
       "      <td>8</td>\n",
       "      <td>0</td>\n",
       "      <td>0</td>\n",
       "      <td>0</td>\n",
       "    </tr>\n",
       "    <tr>\n",
       "      <th>2015-06-01</th>\n",
       "      <td>9531</td>\n",
       "      <td>0</td>\n",
       "      <td>1</td>\n",
       "      <td>0</td>\n",
       "      <td>1</td>\n",
       "      <td>0</td>\n",
       "      <td>1</td>\n",
       "      <td>0</td>\n",
       "      <td>1</td>\n",
       "      <td>2</td>\n",
       "      <td>...</td>\n",
       "      <td>14</td>\n",
       "      <td>0</td>\n",
       "      <td>0</td>\n",
       "      <td>2</td>\n",
       "      <td>0</td>\n",
       "      <td>0</td>\n",
       "      <td>7</td>\n",
       "      <td>0</td>\n",
       "      <td>1</td>\n",
       "      <td>0</td>\n",
       "    </tr>\n",
       "    <tr>\n",
       "      <th>2015-07-01</th>\n",
       "      <td>9393</td>\n",
       "      <td>0</td>\n",
       "      <td>0</td>\n",
       "      <td>0</td>\n",
       "      <td>1</td>\n",
       "      <td>0</td>\n",
       "      <td>1</td>\n",
       "      <td>0</td>\n",
       "      <td>1</td>\n",
       "      <td>0</td>\n",
       "      <td>...</td>\n",
       "      <td>26</td>\n",
       "      <td>0</td>\n",
       "      <td>0</td>\n",
       "      <td>0</td>\n",
       "      <td>0</td>\n",
       "      <td>0</td>\n",
       "      <td>8</td>\n",
       "      <td>0</td>\n",
       "      <td>1</td>\n",
       "      <td>0</td>\n",
       "    </tr>\n",
       "    <tr>\n",
       "      <th>2015-08-01</th>\n",
       "      <td>9387</td>\n",
       "      <td>0</td>\n",
       "      <td>0</td>\n",
       "      <td>1</td>\n",
       "      <td>0</td>\n",
       "      <td>1</td>\n",
       "      <td>0</td>\n",
       "      <td>1</td>\n",
       "      <td>0</td>\n",
       "      <td>0</td>\n",
       "      <td>...</td>\n",
       "      <td>0</td>\n",
       "      <td>0</td>\n",
       "      <td>0</td>\n",
       "      <td>0</td>\n",
       "      <td>8</td>\n",
       "      <td>0</td>\n",
       "      <td>0</td>\n",
       "      <td>0</td>\n",
       "      <td>0</td>\n",
       "      <td>0</td>\n",
       "    </tr>\n",
       "    <tr>\n",
       "      <th>2015-09-01</th>\n",
       "      <td>9422</td>\n",
       "      <td>0</td>\n",
       "      <td>0</td>\n",
       "      <td>1</td>\n",
       "      <td>0</td>\n",
       "      <td>1</td>\n",
       "      <td>0</td>\n",
       "      <td>1</td>\n",
       "      <td>0</td>\n",
       "      <td>0</td>\n",
       "      <td>...</td>\n",
       "      <td>0</td>\n",
       "      <td>0</td>\n",
       "      <td>0</td>\n",
       "      <td>0</td>\n",
       "      <td>8</td>\n",
       "      <td>0</td>\n",
       "      <td>0</td>\n",
       "      <td>0</td>\n",
       "      <td>0</td>\n",
       "      <td>0</td>\n",
       "    </tr>\n",
       "    <tr>\n",
       "      <th>2015-10-01</th>\n",
       "      <td>9424</td>\n",
       "      <td>0</td>\n",
       "      <td>0</td>\n",
       "      <td>1</td>\n",
       "      <td>0</td>\n",
       "      <td>1</td>\n",
       "      <td>0</td>\n",
       "      <td>1</td>\n",
       "      <td>0</td>\n",
       "      <td>0</td>\n",
       "      <td>...</td>\n",
       "      <td>0</td>\n",
       "      <td>0</td>\n",
       "      <td>0</td>\n",
       "      <td>0</td>\n",
       "      <td>8</td>\n",
       "      <td>0</td>\n",
       "      <td>0</td>\n",
       "      <td>0</td>\n",
       "      <td>0</td>\n",
       "      <td>0</td>\n",
       "    </tr>\n",
       "    <tr>\n",
       "      <th>2015-11-01</th>\n",
       "      <td>9407</td>\n",
       "      <td>0</td>\n",
       "      <td>0</td>\n",
       "      <td>1</td>\n",
       "      <td>0</td>\n",
       "      <td>1</td>\n",
       "      <td>0</td>\n",
       "      <td>1</td>\n",
       "      <td>0</td>\n",
       "      <td>0</td>\n",
       "      <td>...</td>\n",
       "      <td>0</td>\n",
       "      <td>0</td>\n",
       "      <td>0</td>\n",
       "      <td>0</td>\n",
       "      <td>7</td>\n",
       "      <td>0</td>\n",
       "      <td>0</td>\n",
       "      <td>1</td>\n",
       "      <td>0</td>\n",
       "      <td>0</td>\n",
       "    </tr>\n",
       "    <tr>\n",
       "      <th>2015-12-01</th>\n",
       "      <td>9413</td>\n",
       "      <td>1</td>\n",
       "      <td>0</td>\n",
       "      <td>1</td>\n",
       "      <td>0</td>\n",
       "      <td>1</td>\n",
       "      <td>0</td>\n",
       "      <td>0</td>\n",
       "      <td>0</td>\n",
       "      <td>0</td>\n",
       "      <td>...</td>\n",
       "      <td>0</td>\n",
       "      <td>0</td>\n",
       "      <td>0</td>\n",
       "      <td>0</td>\n",
       "      <td>7</td>\n",
       "      <td>0</td>\n",
       "      <td>0</td>\n",
       "      <td>1</td>\n",
       "      <td>0</td>\n",
       "      <td>0</td>\n",
       "    </tr>\n",
       "  </tbody>\n",
       "</table>\n",
       "<p>12 rows × 711 columns</p>\n",
       "</div>"
      ],
      "text/plain": [
       "price_mid_peak_var  0.000000  0.007216  0.012183  0.058456  0.058510  \\\n",
       "price_date                                                             \n",
       "2015-01-01              9341         0         1         0         1   \n",
       "2015-02-01              9356         0         1         0         1   \n",
       "2015-03-01              9371         0         1         0         1   \n",
       "2015-04-01              9379         0         1         0         1   \n",
       "2015-05-01              9410         0         1         0         1   \n",
       "2015-06-01              9531         0         1         0         1   \n",
       "2015-07-01              9393         0         0         0         1   \n",
       "2015-08-01              9387         0         0         1         0   \n",
       "2015-09-01              9422         0         0         1         0   \n",
       "2015-10-01              9424         0         0         1         0   \n",
       "2015-11-01              9407         0         0         1         0   \n",
       "2015-12-01              9413         1         0         1         0   \n",
       "\n",
       "price_mid_peak_var  0.061389  0.061443  0.063259  0.063313  0.063679  ...  \\\n",
       "price_date                                                            ...   \n",
       "2015-01-01                 0         1         0         1         3  ...   \n",
       "2015-02-01                 0         1         0         1         3  ...   \n",
       "2015-03-01                 0         1         0         1         3  ...   \n",
       "2015-04-01                 0         1         0         1         3  ...   \n",
       "2015-05-01                 0         1         0         1         2  ...   \n",
       "2015-06-01                 0         1         0         1         2  ...   \n",
       "2015-07-01                 0         1         0         1         0  ...   \n",
       "2015-08-01                 1         0         1         0         0  ...   \n",
       "2015-09-01                 1         0         1         0         0  ...   \n",
       "2015-10-01                 1         0         1         0         0  ...   \n",
       "2015-11-01                 1         0         1         0         0  ...   \n",
       "2015-12-01                 1         0         0         0         0  ...   \n",
       "\n",
       "price_mid_peak_var  0.099286  0.099635  0.101027  0.101037  0.103097  \\\n",
       "price_date                                                             \n",
       "2015-01-01                 0         1         5         0         0   \n",
       "2015-02-01                 0         0         2         0         0   \n",
       "2015-03-01                 2         0         2         0         0   \n",
       "2015-04-01                 5         0         4        10         0   \n",
       "2015-05-01                 6         0         1        14         0   \n",
       "2015-06-01                14         0         0         2         0   \n",
       "2015-07-01                26         0         0         0         0   \n",
       "2015-08-01                 0         0         0         0         8   \n",
       "2015-09-01                 0         0         0         0         8   \n",
       "2015-10-01                 0         0         0         0         8   \n",
       "2015-11-01                 0         0         0         0         7   \n",
       "2015-12-01                 0         0         0         0         7   \n",
       "\n",
       "price_mid_peak_var  0.103142  0.103151  0.103502  0.104202  0.114102  \n",
       "price_date                                                            \n",
       "2015-01-01                 0         0         0         0         1  \n",
       "2015-02-01                 0         7         0         0         1  \n",
       "2015-03-01                 1         7         0         0         1  \n",
       "2015-04-01                 0         7         0         0         0  \n",
       "2015-05-01                 0         8         0         0         0  \n",
       "2015-06-01                 0         7         0         1         0  \n",
       "2015-07-01                 0         8         0         1         0  \n",
       "2015-08-01                 0         0         0         0         0  \n",
       "2015-09-01                 0         0         0         0         0  \n",
       "2015-10-01                 0         0         0         0         0  \n",
       "2015-11-01                 0         0         1         0         0  \n",
       "2015-12-01                 0         0         1         0         0  \n",
       "\n",
       "[12 rows x 711 columns]"
      ]
     },
     "execution_count": 46,
     "metadata": {},
     "output_type": "execute_result"
    }
   ],
   "source": [
    "(pd.crosstab(price['price_date'], price['price_mid_peak_var']))"
   ]
  },
  {
   "cell_type": "code",
   "execution_count": null,
   "id": "733c43c0",
   "metadata": {},
   "outputs": [],
   "source": []
  }
 ],
 "metadata": {
  "kernelspec": {
   "display_name": "Python 3 (ipykernel)",
   "language": "python",
   "name": "python3"
  },
  "language_info": {
   "codemirror_mode": {
    "name": "ipython",
    "version": 3
   },
   "file_extension": ".py",
   "mimetype": "text/x-python",
   "name": "python",
   "nbconvert_exporter": "python",
   "pygments_lexer": "ipython3",
   "version": "3.9.12"
  }
 },
 "nbformat": 4,
 "nbformat_minor": 5
}
