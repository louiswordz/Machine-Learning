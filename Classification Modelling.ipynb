{
 "cells": [
  {
   "cell_type": "markdown",
   "id": "b1af8978",
   "metadata": {},
   "source": [
    "### K-Nearest Neighbor Classification\n",
    "\n",
    "* K-NN is a supervised classifier that memorizes observation from within a labeled test set to predict classification labels for new, unlabeled observations\n",
    "* K-NN makes predictions based on how similar training observations are to the new, incoming observations.\n",
    "* The more similar the observations's values, the more likely they will be classified with the same label.\n",
    "\n",
    "### K-NN Use Cases\n",
    "* Stock Price Prediction\n",
    "* Recommendation systems\n",
    "* Credit risk analysis\n",
    "* Predictive trip planning\n",
    "\n",
    "### K-NN Model Assumptions\n",
    "* Dataset has little noise.\n",
    "* Dataset is labeled\n",
    "* Dataset only contains relevant features.\n",
    "* Dataset has distinguishable subgroups\n",
    "## Avoid using K-NN on large datasets. it will probably take a long time!"
   ]
  },
  {
   "cell_type": "code",
   "execution_count": 16,
   "id": "5ea7cf08",
   "metadata": {},
   "outputs": [],
   "source": [
    "import numpy as np\n",
    "import pandas as pd\n",
    "import scipy\n",
    "\n",
    "import matplotlib.pyplot as plt\n",
    "import seaborn as sns\n",
    "from pylab import rcParams\n",
    "\n",
    "import urllib\n",
    "\n",
    "import sklearn\n",
    "from sklearn.neighbors import KNeighborsClassifier\n",
    "from sklearn.model_selection import train_test_split\n",
    "from sklearn import metrics\n",
    "from sklearn import preprocessing\n",
    "from sklearn.preprocessing import scale\n"
   ]
  },
  {
   "cell_type": "code",
   "execution_count": 17,
   "id": "31dbc626",
   "metadata": {},
   "outputs": [],
   "source": [
    "np.set_printoptions(precision=4, suppress=4)\n",
    "%matplotlib inline\n",
    "rcParams['figure.figsize']=7,4\n",
    "plt.style.use('seaborn-darkgrid')"
   ]
  },
  {
   "cell_type": "markdown",
   "id": "30bcc242",
   "metadata": {},
   "source": [
    "### Splitting your data into test and train datasets"
   ]
  },
  {
   "cell_type": "code",
   "execution_count": 18,
   "id": "c291d974",
   "metadata": {},
   "outputs": [],
   "source": [
    "cars = pd.read_csv(\"mtcars.csv\")\n",
    "cars.columns = [\"car_names\",\"mpg\",\"cyl\",\"disp\",\"hp\",\"drat\",\"wt\",\"qsec\",\"vs\",\"am\",\"gear\",\"carb\"]\n",
    "\n",
    "x_prime = cars.loc[:, (\"mpg\",\"disp\",\"hp\",\"vs\")].values\n",
    "\n",
    "y = cars.iloc[:, (9)].values"
   ]
  },
  {
   "cell_type": "code",
   "execution_count": 19,
   "id": "151a8efe",
   "metadata": {},
   "outputs": [],
   "source": [
    "x = preprocessing.scale(x_prime)"
   ]
  },
  {
   "cell_type": "code",
   "execution_count": 20,
   "id": "6e8d025f",
   "metadata": {},
   "outputs": [],
   "source": [
    "x_train, x_test, y_train, y_test = train_test_split(x,y, test_size=.33, random_state=17)"
   ]
  },
  {
   "cell_type": "markdown",
   "id": "b447b7a5",
   "metadata": {},
   "source": [
    "### Building and training your model with training data"
   ]
  },
  {
   "cell_type": "code",
   "execution_count": 21,
   "id": "a2b4212c",
   "metadata": {},
   "outputs": [
    {
     "name": "stdout",
     "output_type": "stream",
     "text": [
      "KNeighborsClassifier()\n"
     ]
    }
   ],
   "source": [
    "clf = KNeighborsClassifier()\n",
    "clf.fit(x_train, y_train)\n",
    "print(clf)"
   ]
  },
  {
   "cell_type": "markdown",
   "id": "1de33ab9",
   "metadata": {},
   "source": [
    "### Evaluating your model's prediction against the test dataset"
   ]
  },
  {
   "cell_type": "code",
   "execution_count": 22,
   "id": "fe06679c",
   "metadata": {},
   "outputs": [],
   "source": [
    "y_expect = y_test\n",
    "y_pred = clf.predict(x_test)"
   ]
  },
  {
   "cell_type": "code",
   "execution_count": 23,
   "id": "35691502",
   "metadata": {},
   "outputs": [
    {
     "name": "stdout",
     "output_type": "stream",
     "text": [
      "              precision    recall  f1-score   support\n",
      "\n",
      "           0       0.62      1.00      0.77         5\n",
      "           1       1.00      0.50      0.67         6\n",
      "\n",
      "    accuracy                           0.73        11\n",
      "   macro avg       0.81      0.75      0.72        11\n",
      "weighted avg       0.83      0.73      0.71        11\n",
      "\n"
     ]
    }
   ],
   "source": [
    "print(metrics.classification_report(y_expect, y_pred))"
   ]
  },
  {
   "cell_type": "markdown",
   "id": "3e618631",
   "metadata": {},
   "source": [
    "### Logistic Regression\n",
    "* Logistic regression is a simple machine learning method you can use to predict the value of a numeric categorical variable based on its relationship with predictor variables\n",
    "\n",
    "### Logistic Regression use Cases\n",
    "* Purchas propensity vs. ad spend analysis\n",
    "* Customer Churn prediction\n",
    "* Employess attrition modelling \n",
    "* Hazardous event prediction\n",
    "\n",
    "### Logistic Regression Assumptions\n",
    "* Data is free of missing values\n",
    "* The predictant variable is binary (only accepts two values) or ordinal( a category variable with ordered values).\n",
    "* All predictors are independent of each other.\n",
    "* There are at least 50 observations per predictor variable (to ensure relaible results)."
   ]
  },
  {
   "cell_type": "code",
   "execution_count": 24,
   "id": "2e11abd5",
   "metadata": {},
   "outputs": [],
   "source": [
    "import scipy\n",
    "from scipy.stats import spearmanr\n",
    "\n",
    "from sklearn.preprocessing import scale\n",
    "from sklearn.linear_model import LogisticRegression\n",
    "from sklearn.model_selection import train_test_split\n",
    "from sklearn import metrics\n",
    "from sklearn import preprocessing"
   ]
  },
  {
   "cell_type": "code",
   "execution_count": 25,
   "id": "de63fd59",
   "metadata": {},
   "outputs": [
    {
     "data": {
      "text/html": [
       "<div>\n",
       "<style scoped>\n",
       "    .dataframe tbody tr th:only-of-type {\n",
       "        vertical-align: middle;\n",
       "    }\n",
       "\n",
       "    .dataframe tbody tr th {\n",
       "        vertical-align: top;\n",
       "    }\n",
       "\n",
       "    .dataframe thead th {\n",
       "        text-align: right;\n",
       "    }\n",
       "</style>\n",
       "<table border=\"1\" class=\"dataframe\">\n",
       "  <thead>\n",
       "    <tr style=\"text-align: right;\">\n",
       "      <th></th>\n",
       "      <th>model</th>\n",
       "      <th>mpg</th>\n",
       "      <th>cyl</th>\n",
       "      <th>disp</th>\n",
       "      <th>hp</th>\n",
       "      <th>drat</th>\n",
       "      <th>wt</th>\n",
       "      <th>qsec</th>\n",
       "      <th>vs</th>\n",
       "      <th>am</th>\n",
       "      <th>gear</th>\n",
       "      <th>carb</th>\n",
       "    </tr>\n",
       "  </thead>\n",
       "  <tbody>\n",
       "    <tr>\n",
       "      <th>0</th>\n",
       "      <td>Mazda RX4</td>\n",
       "      <td>21.0</td>\n",
       "      <td>6</td>\n",
       "      <td>160.0</td>\n",
       "      <td>110</td>\n",
       "      <td>3.90</td>\n",
       "      <td>2.620</td>\n",
       "      <td>16.46</td>\n",
       "      <td>0</td>\n",
       "      <td>1</td>\n",
       "      <td>4</td>\n",
       "      <td>4</td>\n",
       "    </tr>\n",
       "    <tr>\n",
       "      <th>1</th>\n",
       "      <td>Mazda RX4 Wag</td>\n",
       "      <td>21.0</td>\n",
       "      <td>6</td>\n",
       "      <td>160.0</td>\n",
       "      <td>110</td>\n",
       "      <td>3.90</td>\n",
       "      <td>2.875</td>\n",
       "      <td>17.02</td>\n",
       "      <td>0</td>\n",
       "      <td>1</td>\n",
       "      <td>4</td>\n",
       "      <td>4</td>\n",
       "    </tr>\n",
       "    <tr>\n",
       "      <th>2</th>\n",
       "      <td>Datsun 710</td>\n",
       "      <td>22.8</td>\n",
       "      <td>4</td>\n",
       "      <td>108.0</td>\n",
       "      <td>93</td>\n",
       "      <td>3.85</td>\n",
       "      <td>2.320</td>\n",
       "      <td>18.61</td>\n",
       "      <td>1</td>\n",
       "      <td>1</td>\n",
       "      <td>4</td>\n",
       "      <td>1</td>\n",
       "    </tr>\n",
       "    <tr>\n",
       "      <th>3</th>\n",
       "      <td>Hornet 4 Drive</td>\n",
       "      <td>21.4</td>\n",
       "      <td>6</td>\n",
       "      <td>258.0</td>\n",
       "      <td>110</td>\n",
       "      <td>3.08</td>\n",
       "      <td>3.215</td>\n",
       "      <td>19.44</td>\n",
       "      <td>1</td>\n",
       "      <td>0</td>\n",
       "      <td>3</td>\n",
       "      <td>1</td>\n",
       "    </tr>\n",
       "    <tr>\n",
       "      <th>4</th>\n",
       "      <td>Hornet Sportabout</td>\n",
       "      <td>18.7</td>\n",
       "      <td>8</td>\n",
       "      <td>360.0</td>\n",
       "      <td>175</td>\n",
       "      <td>3.15</td>\n",
       "      <td>3.440</td>\n",
       "      <td>17.02</td>\n",
       "      <td>0</td>\n",
       "      <td>0</td>\n",
       "      <td>3</td>\n",
       "      <td>2</td>\n",
       "    </tr>\n",
       "  </tbody>\n",
       "</table>\n",
       "</div>"
      ],
      "text/plain": [
       "               model   mpg  cyl   disp   hp  drat     wt   qsec  vs  am  gear  \\\n",
       "0          Mazda RX4  21.0    6  160.0  110  3.90  2.620  16.46   0   1     4   \n",
       "1      Mazda RX4 Wag  21.0    6  160.0  110  3.90  2.875  17.02   0   1     4   \n",
       "2         Datsun 710  22.8    4  108.0   93  3.85  2.320  18.61   1   1     4   \n",
       "3     Hornet 4 Drive  21.4    6  258.0  110  3.08  3.215  19.44   1   0     3   \n",
       "4  Hornet Sportabout  18.7    8  360.0  175  3.15  3.440  17.02   0   0     3   \n",
       "\n",
       "   carb  \n",
       "0     4  \n",
       "1     4  \n",
       "2     1  \n",
       "3     1  \n",
       "4     2  "
      ]
     },
     "execution_count": 25,
     "metadata": {},
     "output_type": "execute_result"
    }
   ],
   "source": [
    "address2 = ('mtcars.csv')\n",
    "car = pd.read_csv(address2)\n",
    "car.head()"
   ]
  },
  {
   "cell_type": "code",
   "execution_count": 26,
   "id": "07a4b633",
   "metadata": {},
   "outputs": [],
   "source": [
    "cars_data = car.loc[:,(\"drat\",\"carb\" )].values\n",
    "cars_data_names=[\"drat\",\"carb\"]\n",
    "\n",
    "y = cars.iloc[:,9].values"
   ]
  },
  {
   "cell_type": "markdown",
   "id": "312a7697",
   "metadata": {},
   "source": [
    "#### Checking for independence between features"
   ]
  },
  {
   "cell_type": "code",
   "execution_count": 28,
   "id": "49450263",
   "metadata": {},
   "outputs": [
    {
     "data": {
      "text/plain": [
       "<AxesSubplot:xlabel='drat', ylabel='carb'>"
      ]
     },
     "execution_count": 28,
     "metadata": {},
     "output_type": "execute_result"
    },
    {
     "data": {
      "image/png": "[encoded data removed]",
      "text/plain": [
       "<Figure size 504x288 with 1 Axes>"
      ]
     },
     "metadata": {},
     "output_type": "display_data"
    }
   ],
   "source": [
    "sns.regplot(x=\"drat\", y=\"carb\", data= cars, scatter=True)"
   ]
  },
  {
   "cell_type": "code",
   "execution_count": 29,
   "id": "f91bea91",
   "metadata": {},
   "outputs": [
    {
     "name": "stdout",
     "output_type": "stream",
     "text": [
      "SpearmanR Correlation Coefficeint -0.125\n"
     ]
    }
   ],
   "source": [
    "drat = car.drat\n",
    "carb = car.carb\n",
    "\n",
    "spearmanr_coefficient, p_valve = spearmanr(drat, carb)\n",
    "print(f\"SpearmanR Correlation Coefficeint %.3f\" %(spearmanr_coefficient))"
   ]
  },
  {
   "cell_type": "markdown",
   "id": "05de350b",
   "metadata": {},
   "source": [
    "### Checking for missing values"
   ]
  },
  {
   "cell_type": "code",
   "execution_count": 30,
   "id": "0fb46eef",
   "metadata": {},
   "outputs": [
    {
     "data": {
      "text/plain": [
       "model    0\n",
       "mpg      0\n",
       "cyl      0\n",
       "disp     0\n",
       "hp       0\n",
       "drat     0\n",
       "wt       0\n",
       "qsec     0\n",
       "vs       0\n",
       "am       0\n",
       "gear     0\n",
       "carb     0\n",
       "dtype: int64"
      ]
     },
     "execution_count": 30,
     "metadata": {},
     "output_type": "execute_result"
    }
   ],
   "source": [
    "car.isnull().sum()"
   ]
  },
  {
   "cell_type": "markdown",
   "id": "d1b94458",
   "metadata": {},
   "source": [
    "### Checking that the target is binary or ordinal"
   ]
  },
  {
   "cell_type": "code",
   "execution_count": 31,
   "id": "9a6775e8",
   "metadata": {
    "scrolled": true
   },
   "outputs": [
    {
     "data": {
      "text/plain": [
       "<AxesSubplot:xlabel='am', ylabel='count'>"
      ]
     },
     "execution_count": 31,
     "metadata": {},
     "output_type": "execute_result"
    },
    {
     "data": {
      "image/png": "[encoded data removed]",
      "text/plain": [
       "<Figure size 504x288 with 1 Axes>"
      ]
     },
     "metadata": {},
     "output_type": "display_data"
    }
   ],
   "source": [
    "sns.countplot(x=\"am\", data=car, palette=\"hls\")"
   ]
  },
  {
   "cell_type": "markdown",
   "id": "b7b1a4a1",
   "metadata": {},
   "source": [
    "### Checking that your dataset size is sufficient"
   ]
  },
  {
   "cell_type": "code",
   "execution_count": 32,
   "id": "a6a5ed64",
   "metadata": {},
   "outputs": [
    {
     "name": "stdout",
     "output_type": "stream",
     "text": [
      "<class 'pandas.core.frame.DataFrame'>\n",
      "RangeIndex: 32 entries, 0 to 31\n",
      "Data columns (total 12 columns):\n",
      " #   Column  Non-Null Count  Dtype  \n",
      "---  ------  --------------  -----  \n",
      " 0   model   32 non-null     object \n",
      " 1   mpg     32 non-null     float64\n",
      " 2   cyl     32 non-null     int64  \n",
      " 3   disp    32 non-null     float64\n",
      " 4   hp      32 non-null     int64  \n",
      " 5   drat    32 non-null     float64\n",
      " 6   wt      32 non-null     float64\n",
      " 7   qsec    32 non-null     float64\n",
      " 8   vs      32 non-null     int64  \n",
      " 9   am      32 non-null     int64  \n",
      " 10  gear    32 non-null     int64  \n",
      " 11  carb    32 non-null     int64  \n",
      "dtypes: float64(5), int64(6), object(1)\n",
      "memory usage: 3.1+ KB\n"
     ]
    }
   ],
   "source": [
    "car.info()"
   ]
  },
  {
   "cell_type": "markdown",
   "id": "17e1b3a5",
   "metadata": {},
   "source": [
    "### Deploying and evaluating your model"
   ]
  },
  {
   "cell_type": "code",
   "execution_count": 35,
   "id": "e22d128a",
   "metadata": {},
   "outputs": [
    {
     "name": "stdout",
     "output_type": "stream",
     "text": [
      "0.8125\n"
     ]
    }
   ],
   "source": [
    "x = scale(cars_data)\n",
    "LogReg = LogisticRegression()\n",
    "\n",
    "LogReg.fit(x,y)\n",
    "print(LogReg.score(x,y))"
   ]
  },
  {
   "cell_type": "code",
   "execution_count": 36,
   "id": "2dd14a19",
   "metadata": {},
   "outputs": [],
   "source": [
    "y_pred = LogReg.predict(x)\n",
    "from sklearn.metrics import classification_report"
   ]
  },
  {
   "cell_type": "code",
   "execution_count": 38,
   "id": "1ef18e56",
   "metadata": {},
   "outputs": [
    {
     "name": "stdout",
     "output_type": "stream",
     "text": [
      "              precision    recall  f1-score   support\n",
      "\n",
      "           0       0.88      0.79      0.83        19\n",
      "           1       0.73      0.85      0.79        13\n",
      "\n",
      "    accuracy                           0.81        32\n",
      "   macro avg       0.81      0.82      0.81        32\n",
      "weighted avg       0.82      0.81      0.81        32\n",
      "\n"
     ]
    }
   ],
   "source": [
    "print(classification_report(y, y_pred))"
   ]
  },
  {
   "cell_type": "markdown",
   "id": "00a16d4a",
   "metadata": {},
   "source": [
    "### Naive Bayes Classifiers \n",
    "\n",
    "* Naive Bayes is a machine learning method you can use to predict the likelihood that an event will occur given evidence that's present in your data.\n",
    "\n",
    "###### Conditional probablility\n",
    "P(B|A)= P(A and B) / P(A)\n",
    "\n",
    "### Types of Naive Bayes Models\n",
    "* Multinomial - Good for when yoour features (categorical or continuous) describe frequency counts (e.r. word counts)\n",
    "\n",
    "* Bernoulli - Good for making predictions from binary features\n",
    "\n",
    "* Gaussian - Good for maing predictions from normally distributed features\n",
    "\n",
    "### Use cases\n",
    "* Spam detection\n",
    "* Customer classification\n",
    "* Credit risk prediction\n",
    "* Health risk prediction\n",
    "\n",
    "### Naive Bayes Assumptions\n",
    "* Predictors are independent of each other\n",
    "* A priori assumption: This is an assumption that the past conditions still hold true. When we make predictions from historical values, we will get incorrect results if present circumstances have changed.\n",
    "* All regression models maintain an a priori assumption as well"
   ]
  },
  {
   "cell_type": "code",
   "execution_count": 40,
   "id": "8ed2b445",
   "metadata": {},
   "outputs": [],
   "source": [
    "import numpy as np\n",
    "import pandas as pd\n",
    "\n",
    "import urllib\n",
    "\n",
    "import sklearn\n",
    "from sklearn.naive_bayes import BernoulliNB\n",
    "from sklearn.naive_bayes import GaussianNB\n",
    "from sklearn.naive_bayes import MultinomialNB\n",
    "from sklearn.metrics import accuracy_score\n",
    "from sklearn.model_selection import train_test_split"
   ]
  },
  {
   "cell_type": "markdown",
   "id": "5f926269",
   "metadata": {},
   "source": [
    "### Naive Bayes\n",
    "\n",
    "##### Using Naive Bayes to predict spam"
   ]
  },
  {
   "cell_type": "code",
   "execution_count": 59,
   "id": "7c191f2b",
   "metadata": {},
   "outputs": [
    {
     "name": "stdout",
     "output_type": "stream",
     "text": [
      "[  0.      0.64    0.64    0.      0.32    0.      0.      0.      0.\n",
      "   0.      0.      0.64    0.      0.      0.      0.32    0.      1.29\n",
      "   1.93    0.      0.96    0.      0.      0.      0.      0.      0.\n",
      "   0.      0.      0.      0.      0.      0.      0.      0.      0.\n",
      "   0.      0.      0.      0.      0.      0.      0.      0.      0.\n",
      "   0.      0.      0.      0.      0.      0.      0.778   0.      0.\n",
      "   3.756  61.    278.      1.   ]\n"
     ]
    }
   ],
   "source": [
    "url = \"https://archive.ics.uci.edu/ml/machine-learning-databases/spambase/spambase.data\"\n",
    "raw_data = urllib.request.urlopen(url)\n",
    "dataset = np.loadtxt(raw_data, delimiter=',')\n",
    "print(dataset[0])"
   ]
  },
  {
   "cell_type": "code",
   "execution_count": 60,
   "id": "cfea879f",
   "metadata": {},
   "outputs": [],
   "source": [
    "x = dataset[:,0:48]\n",
    "\n",
    "y = dataset[:, -1]"
   ]
  },
  {
   "cell_type": "code",
   "execution_count": 61,
   "id": "f9203c5c",
   "metadata": {},
   "outputs": [],
   "source": [
    "x_train, x_test, y_train, y_test = train_test_split(x,y, test_size=.33, random_state=17)"
   ]
  },
  {
   "cell_type": "code",
   "execution_count": 65,
   "id": "2696e2ec",
   "metadata": {},
   "outputs": [
    {
     "name": "stdout",
     "output_type": "stream",
     "text": [
      "BernoulliNB(binarize=True)\n",
      "0.8558262014483212\n"
     ]
    }
   ],
   "source": [
    "BernNB = BernoulliNB(binarize=True)\n",
    "BernNB.fit(x_train, y_train)\n",
    "print(BernNB)\n",
    "\n",
    "y_expect = y_test\n",
    "y_pred = BernNB.predict(x_test)\n",
    "print(accuracy_score(y_expect, y_pred))"
   ]
  },
  {
   "cell_type": "code",
   "execution_count": 67,
   "id": "0484ceec",
   "metadata": {},
   "outputs": [
    {
     "name": "stdout",
     "output_type": "stream",
     "text": [
      "MultinomialNB()\n",
      "0.8736010533245556\n"
     ]
    }
   ],
   "source": [
    "MultiNB = MultinomialNB()\n",
    "MultiNB.fit(x_train, y_train)\n",
    "print(MultiNB)\n",
    "\n",
    "y_pred = MultiNB.predict(x_test)\n",
    "print(accuracy_score(y_expect, y_pred))"
   ]
  },
  {
   "cell_type": "code",
   "execution_count": 68,
   "id": "9afe90d3",
   "metadata": {},
   "outputs": [
    {
     "name": "stdout",
     "output_type": "stream",
     "text": [
      "GaussianNB()\n",
      "0.8130348913759052\n"
     ]
    }
   ],
   "source": [
    "GaussNB = GaussianNB()\n",
    "\n",
    "GaussNB.fit(x_train, y_train)\n",
    "print(GaussNB)\n",
    "\n",
    "y_pred= GaussNB.predict(x_test)\n",
    "print(accuracy_score(y_expect, y_pred))"
   ]
  },
  {
   "cell_type": "code",
   "execution_count": 69,
   "id": "7e8a4e96",
   "metadata": {},
   "outputs": [
    {
     "name": "stdout",
     "output_type": "stream",
     "text": [
      "BernoulliNB(binarize=0.1)\n",
      "0.8953258722843976\n"
     ]
    }
   ],
   "source": [
    "BernNB = BernoulliNB(binarize=0.1)\n",
    "BernNB.fit(x_train, y_train)\n",
    "print(BernNB)\n",
    "\n",
    "y_expect = y_test\n",
    "y_pred = BernNB.predict(x_test)\n",
    "print(accuracy_score(y_expect, y_pred))"
   ]
  },
  {
   "cell_type": "code",
   "execution_count": null,
   "id": "21d434a5",
   "metadata": {},
   "outputs": [],
   "source": []
  }
 ],
 "metadata": {
  "kernelspec": {
   "display_name": "Python 3 (ipykernel)",
   "language": "python",
   "name": "python3"
  },
  "language_info": {
   "codemirror_mode": {
    "name": "ipython",
    "version": 3
   },
   "file_extension": ".py",
   "mimetype": "text/x-python",
   "name": "python",
   "nbconvert_exporter": "python",
   "pygments_lexer": "ipython3",
   "version": "3.9.12"
  }
 },
 "nbformat": 4,
 "nbformat_minor": 5
}
